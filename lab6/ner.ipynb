{
 "cells": [
  {
   "cell_type": "code",
   "execution_count": 47,
   "id": "initial_id",
   "metadata": {
    "collapsed": true,
    "ExecuteTime": {
     "end_time": "2024-12-04T23:33:47.539097Z",
     "start_time": "2024-12-04T23:33:47.535344Z"
    }
   },
   "outputs": [],
   "source": [
    "from datasets import load_dataset\n",
    "import pandas as pd\n",
    "import spacy\n",
    "import matplotlib.pyplot as plt\n",
    "import pandas as pd\n",
    "from collections import Counter\n",
    "from spacy import displacy"
   ]
  },
  {
   "cell_type": "code",
   "outputs": [
    {
     "data": {
      "text/plain": "  _id title                                               text\n0   3        Nie mówię, że nie podoba mi się też pomysł szk...\n1  31        Tak więc nic nie zapobiega fałszywym ocenom po...",
      "text/html": "<div>\n<style scoped>\n    .dataframe tbody tr th:only-of-type {\n        vertical-align: middle;\n    }\n\n    .dataframe tbody tr th {\n        vertical-align: top;\n    }\n\n    .dataframe thead th {\n        text-align: right;\n    }\n</style>\n<table border=\"1\" class=\"dataframe\">\n  <thead>\n    <tr style=\"text-align: right;\">\n      <th></th>\n      <th>_id</th>\n      <th>title</th>\n      <th>text</th>\n    </tr>\n  </thead>\n  <tbody>\n    <tr>\n      <th>0</th>\n      <td>3</td>\n      <td></td>\n      <td>Nie mówię, że nie podoba mi się też pomysł szk...</td>\n    </tr>\n    <tr>\n      <th>1</th>\n      <td>31</td>\n      <td></td>\n      <td>Tak więc nic nie zapobiega fałszywym ocenom po...</td>\n    </tr>\n  </tbody>\n</table>\n</div>"
     },
     "execution_count": 2,
     "metadata": {},
     "output_type": "execute_result"
    }
   ],
   "source": [
    "texts = load_dataset(\"clarin-knext/fiqa-pl\", \"corpus\")\n",
    "df_texts = texts['corpus']\n",
    "df_texts = pd.DataFrame.from_dict(df_texts)\n",
    "df_texts.head(2)"
   ],
   "metadata": {
    "collapsed": false,
    "ExecuteTime": {
     "end_time": "2024-12-04T23:09:44.384020Z",
     "start_time": "2024-12-04T23:09:41.646996Z"
    }
   },
   "id": "8ad1dec021a0fbff",
   "execution_count": 2
  },
  {
   "cell_type": "code",
   "outputs": [],
   "source": [
    "df_1000 = df_texts.sample(n=1000, random_state=2137)"
   ],
   "metadata": {
    "collapsed": false,
    "ExecuteTime": {
     "end_time": "2024-12-04T23:09:44.387723Z",
     "start_time": "2024-12-04T23:09:44.384648Z"
    }
   },
   "id": "292fcbf80da29c61",
   "execution_count": 3
  },
  {
   "cell_type": "code",
   "outputs": [],
   "source": [
    "nlp = spacy.load(\"pl_core_news_sm\")"
   ],
   "metadata": {
    "collapsed": false,
    "ExecuteTime": {
     "end_time": "2024-12-04T23:09:44.694504Z",
     "start_time": "2024-12-04T23:09:44.388298Z"
    }
   },
   "id": "cb89a763ef59696c",
   "execution_count": 4
  },
  {
   "cell_type": "code",
   "outputs": [
    {
     "data": {
      "text/plain": "str"
     },
     "execution_count": 5,
     "metadata": {},
     "output_type": "execute_result"
    }
   ],
   "source": [
    "df_texts['text']= df_texts['text'].astype(str)\n",
    "type(df_texts.iloc[0]['text'])"
   ],
   "metadata": {
    "collapsed": false,
    "ExecuteTime": {
     "end_time": "2024-12-04T23:09:44.700732Z",
     "start_time": "2024-12-04T23:09:44.695844Z"
    }
   },
   "id": "83e1426c89026600",
   "execution_count": 5
  },
  {
   "cell_type": "code",
   "outputs": [],
   "source": [
    "def lemmatize_text(text):\n",
    "    doc = nlp(text)\n",
    "    lematized_words = [token.lemma_ for token in doc]\n",
    "    return \" \".join(lematized_words)"
   ],
   "metadata": {
    "collapsed": false,
    "ExecuteTime": {
     "end_time": "2024-12-04T23:09:44.703366Z",
     "start_time": "2024-12-04T23:09:44.701293Z"
    }
   },
   "id": "c66800b5ad1eb6f9",
   "execution_count": 6
  },
  {
   "cell_type": "code",
   "outputs": [
    {
     "name": "stdout",
     "output_type": "stream",
     "text": [
      "nie mówić , że nie podobać ja się też pomysł szkolenie w miejsce praca , ale nie móc oczekiwać , że firma to zrobić . szkolenie pracownik to nie on praca – on tworzyć oprogramowanie . być może system edukacyjny w Stany Zjednoczone ( lub on student ) powinien trochę martwić się o zdobycie umiejętność rynkowy w zamian za on ogromny inwestycja w edukacja , zamiast wychodzić z tysiąc zadłużoć student i narzekać , że nie być do nic wykwalifikować .\n"
     ]
    }
   ],
   "source": [
    "# Lematyzowany tekst:\n",
    "print(lemmatize_text(df_texts.iloc[0]['text']))"
   ],
   "metadata": {
    "collapsed": false,
    "ExecuteTime": {
     "end_time": "2024-12-04T23:09:44.724436Z",
     "start_time": "2024-12-04T23:09:44.704615Z"
    }
   },
   "id": "910dd7de9a597966",
   "execution_count": 7
  },
  {
   "cell_type": "code",
   "outputs": [
    {
     "data": {
      "text/plain": "'Nie mówię, że nie podoba mi się też pomysł szkolenia w miejscu pracy, ale nie możesz oczekiwać, że firma to zrobi. Szkolenie pracowników to nie ich praca – oni tworzą oprogramowanie. Być może systemy edukacyjne w Stanach Zjednoczonych (lub ich studenci) powinny trochę martwić się o zdobycie umiejętności rynkowych w zamian za ich ogromne inwestycje w edukację, zamiast wychodzić z tysiącami zadłużonych studentów i narzekać, że nie są do niczego wykwalifikowani.'"
     },
     "execution_count": 8,
     "metadata": {},
     "output_type": "execute_result"
    }
   ],
   "source": [
    "# surowy tekst\n",
    "df_texts.iloc[0]['text']"
   ],
   "metadata": {
    "collapsed": false,
    "ExecuteTime": {
     "end_time": "2024-12-04T23:09:44.727769Z",
     "start_time": "2024-12-04T23:09:44.724968Z"
    }
   },
   "id": "352e992ef1ca5657",
   "execution_count": 8
  },
  {
   "cell_type": "code",
   "outputs": [],
   "source": [
    "df_1000['text_lemmat'] = df_1000['text'].apply(lemmatize_text)"
   ],
   "metadata": {
    "collapsed": false,
    "ExecuteTime": {
     "end_time": "2024-12-04T23:10:05.748897Z",
     "start_time": "2024-12-04T23:09:44.728444Z"
    }
   },
   "id": "7e50574bde7775a1",
   "execution_count": 9
  },
  {
   "cell_type": "code",
   "outputs": [
    {
     "data": {
      "text/plain": "          _id title                                               text  \\\n47960  498437        Domyślam się, że do tej pory budowanie w górę ...   \n34367  356387        * Bojack = okropne * Mindhunter = dobrze * Duż...   \n14705  151504        Pieniądze mnie cholernie stresują, trudno nie ...   \n\n                                             text_lemmat  \n47960  Domyślam się , że do ten pora budować w góra b...  \n34367  * Bojack = okropny * mindhunter = dobrze * duż...  \n14705  pieniądz ja cholernie stresować , trudno nie b...  ",
      "text/html": "<div>\n<style scoped>\n    .dataframe tbody tr th:only-of-type {\n        vertical-align: middle;\n    }\n\n    .dataframe tbody tr th {\n        vertical-align: top;\n    }\n\n    .dataframe thead th {\n        text-align: right;\n    }\n</style>\n<table border=\"1\" class=\"dataframe\">\n  <thead>\n    <tr style=\"text-align: right;\">\n      <th></th>\n      <th>_id</th>\n      <th>title</th>\n      <th>text</th>\n      <th>text_lemmat</th>\n    </tr>\n  </thead>\n  <tbody>\n    <tr>\n      <th>47960</th>\n      <td>498437</td>\n      <td></td>\n      <td>Domyślam się, że do tej pory budowanie w górę ...</td>\n      <td>Domyślam się , że do ten pora budować w góra b...</td>\n    </tr>\n    <tr>\n      <th>34367</th>\n      <td>356387</td>\n      <td></td>\n      <td>* Bojack = okropne * Mindhunter = dobrze * Duż...</td>\n      <td>* Bojack = okropny * mindhunter = dobrze * duż...</td>\n    </tr>\n    <tr>\n      <th>14705</th>\n      <td>151504</td>\n      <td></td>\n      <td>Pieniądze mnie cholernie stresują, trudno nie ...</td>\n      <td>pieniądz ja cholernie stresować , trudno nie b...</td>\n    </tr>\n  </tbody>\n</table>\n</div>"
     },
     "execution_count": 10,
     "metadata": {},
     "output_type": "execute_result"
    }
   ],
   "source": [
    "df_1000.head(3)"
   ],
   "metadata": {
    "collapsed": false,
    "ExecuteTime": {
     "end_time": "2024-12-04T23:10:05.753069Z",
     "start_time": "2024-12-04T23:10:05.749479Z"
    }
   },
   "id": "39c841ced3e79996",
   "execution_count": 10
  },
  {
   "cell_type": "code",
   "outputs": [],
   "source": [
    "def get_capital_expressions(text):\n",
    "    doc = nlp(text)\n",
    "    expressions = []\n",
    "    expression = \"\"\n",
    "    # every doc between sentences\n",
    "    for sentence in doc.sents:\n",
    "        # skip first word as it is always capital\n",
    "        for token in sentence[1:]:\n",
    "            if token.is_title:\n",
    "                expression += str(token)\n",
    "                expression += \" \"\n",
    "            # If there are two (or more) capital words e.g. Stanów Zjednoczonych\n",
    "            elif not token.is_title and len(expression) > 0:\n",
    "                expressions.append(expression)\n",
    "                expression = \"\"\n",
    "    return expressions\n",
    "        "
   ],
   "metadata": {
    "collapsed": false,
    "ExecuteTime": {
     "end_time": "2024-12-04T23:10:05.756775Z",
     "start_time": "2024-12-04T23:10:05.754189Z"
    }
   },
   "id": "85b1d0b05739411e",
   "execution_count": 11
  },
  {
   "cell_type": "code",
   "outputs": [
    {
     "data": {
      "text/plain": "['Krakowie ', 'Polski ', 'Stanów Zjednoczonych ', 'Testa ']"
     },
     "execution_count": 12,
     "metadata": {},
     "output_type": "execute_result"
    }
   ],
   "source": [
    "get_capital_expressions('Wczoraj w Krakowie miało miejsce spotkanie prezydentów Polski i Stanów Zjednoczonych. Cos na Testa biore.')"
   ],
   "metadata": {
    "collapsed": false,
    "ExecuteTime": {
     "end_time": "2024-12-04T23:10:05.767277Z",
     "start_time": "2024-12-04T23:10:05.757904Z"
    }
   },
   "id": "d621a5a168acfeb9",
   "execution_count": 12
  },
  {
   "cell_type": "code",
   "outputs": [],
   "source": [
    "df_1000['expressions'] = df_1000['text_lemmat'].apply(get_capital_expressions)"
   ],
   "metadata": {
    "collapsed": false,
    "ExecuteTime": {
     "end_time": "2024-12-04T23:10:26.736272Z",
     "start_time": "2024-12-04T23:10:05.768323Z"
    }
   },
   "id": "29dccd9fb99ec507",
   "execution_count": 13
  },
  {
   "cell_type": "code",
   "outputs": [
    {
     "data": {
      "text/plain": "          _id title                                               text  \\\n47960  498437        Domyślam się, że do tej pory budowanie w górę ...   \n34367  356387        * Bojack = okropne * Mindhunter = dobrze * Duż...   \n14705  151504        Pieniądze mnie cholernie stresują, trudno nie ...   \n36379  377941        „Jestem wykonawcą i zwykle dorzucam kilka doda...   \n9438    97347        W przypadku większości osób nie ma żadnej różn...   \n\n                                             text_lemmat  \\\n47960  Domyślam się , że do ten pora budować w góra b...   \n34367  * Bojack = okropny * mindhunter = dobrze * duż...   \n14705  pieniądz ja cholernie stresować , trudno nie b...   \n36379  „ być wykonawca i zwykle dorzucać kilka dodatk...   \n9438   w przypadek większość osoba nie mieć żaden róż...   \n\n                                             expressions  \n47960                                                 []  \n34367  [Bojack , Bestie , The Crown , Lithgow , Churc...  \n14705                                                 []  \n36379                                                 []  \n9438                                 [Gmaila , Hotmail ]  ",
      "text/html": "<div>\n<style scoped>\n    .dataframe tbody tr th:only-of-type {\n        vertical-align: middle;\n    }\n\n    .dataframe tbody tr th {\n        vertical-align: top;\n    }\n\n    .dataframe thead th {\n        text-align: right;\n    }\n</style>\n<table border=\"1\" class=\"dataframe\">\n  <thead>\n    <tr style=\"text-align: right;\">\n      <th></th>\n      <th>_id</th>\n      <th>title</th>\n      <th>text</th>\n      <th>text_lemmat</th>\n      <th>expressions</th>\n    </tr>\n  </thead>\n  <tbody>\n    <tr>\n      <th>47960</th>\n      <td>498437</td>\n      <td></td>\n      <td>Domyślam się, że do tej pory budowanie w górę ...</td>\n      <td>Domyślam się , że do ten pora budować w góra b...</td>\n      <td>[]</td>\n    </tr>\n    <tr>\n      <th>34367</th>\n      <td>356387</td>\n      <td></td>\n      <td>* Bojack = okropne * Mindhunter = dobrze * Duż...</td>\n      <td>* Bojack = okropny * mindhunter = dobrze * duż...</td>\n      <td>[Bojack , Bestie , The Crown , Lithgow , Churc...</td>\n    </tr>\n    <tr>\n      <th>14705</th>\n      <td>151504</td>\n      <td></td>\n      <td>Pieniądze mnie cholernie stresują, trudno nie ...</td>\n      <td>pieniądz ja cholernie stresować , trudno nie b...</td>\n      <td>[]</td>\n    </tr>\n    <tr>\n      <th>36379</th>\n      <td>377941</td>\n      <td></td>\n      <td>„Jestem wykonawcą i zwykle dorzucam kilka doda...</td>\n      <td>„ być wykonawca i zwykle dorzucać kilka dodatk...</td>\n      <td>[]</td>\n    </tr>\n    <tr>\n      <th>9438</th>\n      <td>97347</td>\n      <td></td>\n      <td>W przypadku większości osób nie ma żadnej różn...</td>\n      <td>w przypadek większość osoba nie mieć żaden róż...</td>\n      <td>[Gmaila , Hotmail ]</td>\n    </tr>\n  </tbody>\n</table>\n</div>"
     },
     "execution_count": 14,
     "metadata": {},
     "output_type": "execute_result"
    }
   ],
   "source": [
    "df_1000.head(5)"
   ],
   "metadata": {
    "collapsed": false,
    "ExecuteTime": {
     "end_time": "2024-12-04T23:10:26.742188Z",
     "start_time": "2024-12-04T23:10:26.738264Z"
    }
   },
   "id": "58a0c2d8958ce5d0",
   "execution_count": 14
  },
  {
   "cell_type": "code",
   "outputs": [],
   "source": [
    "def parse_text(lista):\n",
    "    text = [element.strip() for element in lista]\n",
    "    text = str(text).strip(\"[]\")\n",
    "    text = text.replace(\"  \", \",\")\n",
    "    return text\n",
    "df_1000['expressions'] = df_1000['expressions'].apply(parse_text)"
   ],
   "metadata": {
    "collapsed": false,
    "ExecuteTime": {
     "end_time": "2024-12-04T23:10:26.745959Z",
     "start_time": "2024-12-04T23:10:26.742693Z"
    }
   },
   "id": "e82720146a161315",
   "execution_count": 15
  },
  {
   "cell_type": "code",
   "outputs": [
    {
     "data": {
      "text/plain": "          _id title                                               text  \\\n47960  498437        Domyślam się, że do tej pory budowanie w górę ...   \n34367  356387        * Bojack = okropne * Mindhunter = dobrze * Duż...   \n14705  151504        Pieniądze mnie cholernie stresują, trudno nie ...   \n\n                                             text_lemmat  \\\n47960  Domyślam się , że do ten pora budować w góra b...   \n34367  * Bojack = okropny * mindhunter = dobrze * duż...   \n14705  pieniądz ja cholernie stresować , trudno nie b...   \n\n                                             expressions  \n47960                                                     \n34367  'Bojack', 'Bestie', 'The Crown', 'Lithgow', 'C...  \n14705                                                     ",
      "text/html": "<div>\n<style scoped>\n    .dataframe tbody tr th:only-of-type {\n        vertical-align: middle;\n    }\n\n    .dataframe tbody tr th {\n        vertical-align: top;\n    }\n\n    .dataframe thead th {\n        text-align: right;\n    }\n</style>\n<table border=\"1\" class=\"dataframe\">\n  <thead>\n    <tr style=\"text-align: right;\">\n      <th></th>\n      <th>_id</th>\n      <th>title</th>\n      <th>text</th>\n      <th>text_lemmat</th>\n      <th>expressions</th>\n    </tr>\n  </thead>\n  <tbody>\n    <tr>\n      <th>47960</th>\n      <td>498437</td>\n      <td></td>\n      <td>Domyślam się, że do tej pory budowanie w górę ...</td>\n      <td>Domyślam się , że do ten pora budować w góra b...</td>\n      <td></td>\n    </tr>\n    <tr>\n      <th>34367</th>\n      <td>356387</td>\n      <td></td>\n      <td>* Bojack = okropne * Mindhunter = dobrze * Duż...</td>\n      <td>* Bojack = okropny * mindhunter = dobrze * duż...</td>\n      <td>'Bojack', 'Bestie', 'The Crown', 'Lithgow', 'C...</td>\n    </tr>\n    <tr>\n      <th>14705</th>\n      <td>151504</td>\n      <td></td>\n      <td>Pieniądze mnie cholernie stresują, trudno nie ...</td>\n      <td>pieniądz ja cholernie stresować , trudno nie b...</td>\n      <td></td>\n    </tr>\n  </tbody>\n</table>\n</div>"
     },
     "execution_count": 16,
     "metadata": {},
     "output_type": "execute_result"
    }
   ],
   "source": [
    "df_1000.head(3)"
   ],
   "metadata": {
    "collapsed": false,
    "ExecuteTime": {
     "end_time": "2024-12-04T23:10:26.749203Z",
     "start_time": "2024-12-04T23:10:26.746403Z"
    }
   },
   "id": "880dc872a037af17",
   "execution_count": 16
  },
  {
   "cell_type": "code",
   "outputs": [
    {
     "name": "stdout",
     "output_type": "stream",
     "text": [
      "Counter({'Twój': 62, 'Ciebie': 55, 'Roth': 34, 'Stany Zjednoczone': 33, 'Indie': 26, 'Apple': 22, 'B': 19, 'S&P': 19, 'X': 18, 'Vanguard': 17, 'Internet': 17, 'Kanada': 14, 'Twoją': 13, 'C': 12, 'A': 12, 'Wielki Brytania': 11, 'Bitcoin': 11, 'Trump': 11, 'Twojej': 11, 'E': 11, 'Amazon': 11, 'Fed': 10, 'Microsoft': 10, 'Y': 9, 'Google': 9, 'Huawei': 9, 'Europa': 8, 'Twojego': 8, 'Walmart': 8, 'Najlepsze': 8, 'W': 8, '^Wyklucz': 8, 'Wyklucz': 8, 'Australia': 7, 'Francja': 7, 'Twoich': 7, 'Ameryka': 7, 'Rozszerzone': 7, 'R': 7, 'Facebook': 7, 'P': 7, 'Linkedin': 7, 'K': 6, 'Fidelity': 6, 'S': 6, 'Money': 6, 'Vice': 6, 'Uber': 6, 'M1': 6, 'Accenture': 6, 'Wikipedia': 5, 'M2': 5, 'In': 5, 'Japonia': 5, 'Chicago': 5, 'Chiny': 5, 'Tesla': 5, 'Yahoo': 5, 'Bach': 5, 'Fundusze': 4, 'Rsa': 4, 'Rs': 4, 'Out': 4, 'Best Buy': 4, 'T': 4, 'W2': 4, 'D': 4, 'Grecja': 4, 'Jork': 4, 'Tobie': 4, 'Linux': 4, 'Netflix': 4, 'H1': 4, 'Czek': 4, 'Meksyk': 4, 'Samsung': 4, 'Nowy Jork': 4, 'Toyota': 4, 'Trailing': 4, 'Microsoftu': 3, 'Inflation': 3, 'Reddit': 3, 'Izrael': 3, 'Rosja': 3, 'Chińczyk': 3, 'Wydatek': 3, 'Rotha': 3, 'Amerykanin': 3, 'Lyft': 3, 'Twitter': 3, 'Więcej': 3, 'Excel': 3, 'Powell': 3, 'Ty': 3, 'Motley Fool': 3, 'Montreal': 3, 'Gamma': 3, 'U': 3, 'Moochi': 3, 'Zimbabwe': 3, 'Airbnb': 3, 'Amerykanów': 3, 'Russell': 3, 'N': 3, 'Barclays': 3, 'Krzemowy': 3, 'F': 3, 'Ltd': 3, 'Kongres': 3, 'Nokia': 3, 'Y%': 3, 'Admiral': 3, 'Banker': 3, 'Yale': 3, 'Floryda': 3, 'Economics': 2, 'Cincinnati': 2, 'Hollywood': 2, 'Brytania': 2, 'Brytyjczyk': 2, 'Niemcy': 2, 'Stany': 2, 'Kandydat': 2, 'Financial': 2, 'University': 2, 'Wolumen': 2, 'Bitcoina': 2, 'Najważniejsze': 2, 'Kool': 2, 'Zainwestuj': 2, 'Szwecja': 2, 'Circuit City': 2, 'Frank': 2, 'Azja': 2, 'Boston': 2, 'City': 2, 'Amerykanina': 2, 'Hongkong': 2, 'Android': 2, 'Ivy League': 2, 'H1B': 2, 'Detroit': 2, 'Zjednoczone': 2, 'Twoj': 2, 'Bridgewater': 2, 'G': 2, 'Bliski Wschód': 2, 'Fidelita': 2, 'Citi': 2, 'Zakładając': 2, 'Windows': 2, 'Win8': 2, 'Linuks': 2, 'America': 2, 'Myspace': 2, 'Melbourne': 2, 'Costco': 2, 'Apokalipsa': 2, 'J': 2, 'Inny': 2, 'Yahoo Finanka': 2, 'Ameritrade': 2, 'Żadna': 2, 'Investopedia': 2, 'Facebooku': 2, 'S&P500': 2, 'Comcast': 2, '/T_D': 2, 'Inwestor': 2, 'Federalny': 2, 'Atlantic City': 2, 'Lehman': 2, 'Bank': 2, 'Uniwersytecie': 2, 'Anglia': 2, 'Załóżmy': 2, 'Annuities': 2, 'Lyfta': 2, 'Poproś': 2, 'Waszyngton': 2, 'Rezerwa Federalny': 2, 'I': 2, 'International': 2, 'Forward': 2, 'Carnegie Melon': 2, 'Wall St': 2, 'Pentagon': 2, 'San Diego': 2, 'Bóg': 2, 'Dell': 2, 'Credit Karma': 2, 'Śledzenie': 2, 'Rente': 2, 'Buffalo Wild Wings': 2, 'Cruz': 2, 'Cedar Publishing Corporation': 2, 'Publishing': 2, 'Suze': 2, 'Ron Paul': 2, 'Vert': 2, 'Noid': 2, 'Potrzebujesz': 2, 'Aktywa': 2, 'Boeing': 2, 'Birmingham': 2, 'Too Big': 2, 'Sachs': 2, 'Narrator': 2, 'Bojack': 1, 'Bestie': 1, 'The Crown': 1, 'Lithgow': 1, 'Churchill': 1, 'Master': 1, 'Blinders': 1, 'Świetny': 1, 'Łatwy': 1, 'Girl Boss': 1, 'Gypsy': 1, 'Adam Sandler': 1, 'Ridiculous': 1, 'Gmaila': 1, 'Hotmail': 1, 'Rawlsian': 1, 'Ekonomia': 1, '^^I': 1, '^^Teraz': 1, 'Ak': 1, '@Michael Kjörling': 1, 'Skorumpowane': 1, 'Stażyści': 1, 'Total Rewards': 1, 'Suite': 1, 'Dollar': 1, 'Five Guys': 1, 'Culver': 1, 'The Weinstein Compana': 1, 'Katha': 1, 'Touch': 1, 'Forex': 1, 'Inżynierowie': 1, 'Milioner': 1, 'Przestań': 1, 'Dave Ramsey': 1, 'Z': 1, 'Włochy': 1, 'Q': 1, 'Hmm': 1, 'Hunt': 1, 'Euro': 1, 'Warren': 1, 'Brena': 1, 'Myśl': 1, 'Harris': 1, 'Kroger': 1, 'Trader': 1, 'Schwab': 1, 'Lufthansy': 1, 'Frankfurt': 1, 'Sprotta).Nie': 1, '\\\\u200b\\\\u200bEuro': 1, 'Opowiedz': 1, 'Amex': 1, '16': 1, '7X': 1, '4': 1, '2X': 1, 'Kupno': 1, 'Niemiec': 1, 'Rosjanin': 1, 'Gdybyśmy': 1, 'Dokonujesz': 1, 'Japonii).Symetrei': 1, 'Podaż': 1, 'Bitcoin).To': 1, 'Bolivar': 1, 'Indeksu Społeczny': 1, 'Jantzi': 1, 'Arystoteles': 1, 'Publications': 1, 'Issues/2017/09/29/Settling': 1, 'Targeting': 1, 'Debate': 1, 'Lights': 1, 'Regression': 1, 'Alysis': 1, 'Inflacja**^#4': 1, 'Interweba': 1, 'Domena': 1, 'The': 1, 'The Atlantic': 1, 'Week': 1, 'Agent': 1, 'Center': 1, 'Somalii': 1, 'Indiach': 1, 'Lokaty Stałe': 1, 'Konto': 1, 'Arogancki': 1, 'Ujawnien': 1, 'Aid': 1, 'Braintree': 1, 'Dania': 1, 'Finlandia': 1, 'Cynk': 1, 'Wietnam': 1, 'Target': 1, 'Carls': 1, 'State Farm': 1, 'Allstate': 1, 'Dailykos': 1, 'Wartość': 1, 'Bob': 1, 'Inżynieria Matematyka': 1, 'Levy': 1, 'Energy Information Administration': 1, 'Russland': 1, '.Dlatego': 1, 'Eksport': 1, 'Reuter': 1, 'Donald Trump': 1, 'Laurence Watson': 1, 'Tracker': 1, 'Londyn': 1, 'Węgiel**^#1': 1, 'Zjednoczone**^#2': 1, 'Trump**^#3': 1, 'George Marian': 1, '\\\\u200b\\\\u200bUstawienia': 1, 'Zobaczysz': 1, 'Market Basket': 1, 'Applebees': 1, 'Koszt': 1, '3)Może': 1, 'Wszystek': 1, 'Azjata': 1, 'Kanadyjczyk': 1, 'Perth': 1, 'Pub': 1, 'Rothu': 1, 'Loyal3': 1, 'Shredding Service': 1, 'Wal': 1, 'United': 1, 'Zacznij': 1, 'League': 1, 'Goldmana': 1, 'Płacena': 1, 'Posiadać': 1, 'Laffer': 1, 'Wujk Saem': 1, 'Lewin': 1, 'Satchell': 1, 'Wilmotta': 1, 'Argentyna': 1, 'Brazylijczyk': 1, 'Brazylia': 1, 'L1': 1, 'Wkładaj': 1, 'Kiplinger': 1, 'Austen': 1, 'Discount Online': 1, 'Houston': 1, 'Loss Carry Forwarded': 1, 'Back': 1, 'Zastąpione': 1, 'Protoscienka': 1, 'Lysenkoism': 1, 'File': 1, 'Ziemia': 1, '^Ciekawy': 1, '^Imponderabel': 1, '^Lista': 1, 'Falsifiability': 1, '^Caloric': 1, '^(Często': 1, '^Magiczny': 1, 'Ryzyko': 1, 'Metallica': 1, 'Wilco': 1, 'Louie': 1, 'Burger King': 1, 'Fizyczn': 1, 'Tom Barrett': 1, 'Two Sigma': 1, 'E Shaw': 1, 'Przeglądaj': 1, '^Финансовый': 1, '^Lud': 1, '^Blogach': 1, 'Wycofujemy': 1, 'Twojój': 1, 'New England Journal': 1, 'Medicine': 1, '\\\\u200b\\\\u200b„Excel': 1, 'Logement': 1, 'The More You Know': 1, '^(Jest': 1, 'Opić': 1, '^(Odpowiedz': 1, 'Przeczytaj': 1, 'Nowy': 1, 'Vis': 1, 'Największą': 1, 'Lewis F': 1, 'Jr': 1, 'Nixon': 1, 'Eugene B': 1, 'Sydnor Jr': 1, 'Handlowej Stany Zjednoczone': 1, 'Ładu': 1, 'Ralpha Nader': 1, 'General Motors': 1, 'Unsafe': 1, 'Any Speed': 1, 'Amerykan': 1, 'Phillipa Morris': 1, 'Sąd': 1, 'Śmieja': 1, 'Illinois': 1, 'Harmonogram A': 1, 'Pakistańczyk': 1, 'Hinduś': 1, 'Zszokowany': 1, 'Cash': 1, 'Longer': 1, 'Tesla Inc': 1, '\\\\u200b\\\\u200bTesla': 1, 'Tesla**^#2': 1, 'Bezpieczeństwo**^#3': 1, 'Ocenione**^#4': 1, 'Porównaj Self Cert Mortgages Jak': 1, 'Morgan': 1, 'Peter James Motors': 1, 'Odsetki': 1, 'Dheer': 1, 'Grande Vente Mocharino Espresso Latte': 1, 'Pareto': 1, 'Jezu Chryste': 1, 'Который': 1, 'Belov_Alexandr': 1, 'Flexk': 1, 'Трианекс': 1, 'Trianex': 1, 'Austin': 1, 'Teksas': 1, 'Xbox Live': 1, 'Linusa Torvalds': 1, 'Software': 1, 'Intel': 1, 'Hell Bank': 1, 'Załącznikiem C': 1, 'Bangladesz': 1, 'Alvi': 1, 'Shane': 1, 'Smitha': 1, 'Gavina': 1, 'Viceland': 1, 'Teoria': 1, 'Dywidendy': 1, 'Marginal': 1, 'Project': 1, 'Reutersa': 1, 'Long Gamma': 1, 'Long': 1, 'Ciebie Delta': 1, 'Investopedia Straddles': 1, 'Strangles': 1, 'Ali': 1, 'Srikar': 1, 'Zapewnia': 1, 'Hathaway': 1, 'Rachunków': 1, 'Kurier': 1, 'Gigant': 1, 'Czas': 1, 'Wstrzymaj': 1, 'Power': 1, 'Power Pressure Cooker': 1, 'Ouch': 1, 'Sprawdziłem': 1, 'Legal Tender': 1, 'Detaliści': 1, 'Ralph Lauren': 1, 'Dow Divisor': 1, 'Inn': 1, 'Inn Redleaf Resort': 1, 'Góra Błękitny': 1, 'Lance': 1, 'Japończyk': 1, 'Discover': 1, 'Arab': 1, 'Tobą': 1, 'Bloomberg': 1, 'Govt': 1, 'Wykonawca': 1, 'Ract': 1, 'Valve': 1, 'West Palm Beach Escape Rooms': 1, 'Escape Room': 1, 'West Palm Beach': 1, 'Dodatkowy': 1, 'Wycofujesz': 1, 'Mcdonalds': 1, 'Kickstartera': 1, 'Wolałbym': 1, 'Edytuj': 1, 'Floyd': 1, 'Wall Street Journal': 1, 'Dom': 1, 'Biżuteria': 1, 'Fundusze Inwestycyjny': 1, 'Grade Eh Bacon': 1, 'Głodowy Igrzyskach': 1, 'Niektóry': 1, 'Zdrowotny Vanguard': 1, 'Chris Rea': 1, 'Zarządzający': 1, 'Osobistego': 1, 'Iran': 1, 'Gas': 1, 'Swift': 1, 'Indyjski': 1, 'Industries': 1, 'Sugerować': 1, 'Nabywcówe': 1, 'Foreign_Corrupt_Practices_Act': 1, 'Joe': 1, 'Tableau': 1, 'Florents': 1, 'Trade': 1, 'Transferwise': 1, 'Odpowiedzią': 1, 'Service Experts Heating': 1, 'Air Conditioning': 1, 'Jones': 1, 'Mini': 1, 'Exchange': 1, 'Inc': 1, 'Odpowiedziałeś': 1, 'Credit Union': 1, 'Kanadyjczyek': 1, 'Rezerwa Federaln': 1, 'Hulu': 1, 'Netflixa': 1, 'Świetne': 1, 'Goldman Sachs': 1, 'Robinhood': 1, 'Reddicie': 1, 'Chris': 1, 'Dodano': 1, 'Wyszukiwanie': 1, 'Ustawa': 1, 'Fourier': 1, 'Whole Foods': 1, 'Evo 3D': 1, 'Madison': 1, 'Cisco Systems': 1, 'Oracle': 1, 'Byłoby': 1, 'Chłopcze': 1, 'Dopóki': 1, 'Brice': 1, 'Uniwersytet Howard': 1, 'Kapitol': 1, 'Monopoly': 1, 'Aktualna': 1, 'Romney': 1, 'Pageonka': 1, 'Intuit': 1, 'Check': 1, 'Thomas': 1, 'Banek Anglia': 1, 'Xbox': 1, 'Enron': 1, 'Wynagrodzenie': 1, 'Ben': 1, 'Tradycyjne': 1, 'Rollover Tradycyjne': 1, 'Rollover': 1, 'Country Club': 1, 'Tobina': 1, 'Littleadva': 1, 'Quid': 1, 'Qu': 1, 'Katar': 1, 'Monet': 1, 'Obywatelstwo': 1, 'Wiek Źródło': 1, 'Pożyczek': 1, 'Link': 1, 'Union': 1, 'Consumer Reports': 1, 'Powinienem': 1, 'Komunikacyjny': 1, 'Full': 1, 'Social Security': 1, 'Najczęściej': 1, 'Nowość**^#3': 1, 'Wire': 1, 'Wolny Handel': 1, 'Ildefonso Guajardo': 1, 'Guajardo': 1, 'Mexico City': 1, 'Guajardo**^#2': 1, 'Whirlpool': 1, 'Hyderabada': 1, 'Hyderabad': 1, '.Do': 1, 'Panasonica': 1, 'Obserwować': 1, 'Rozpoczynając': 1, 'Sum': 1, 'Starbucks': 1, 'Princess': 1, 'Tiaras Spa Celebrations': 1, 'Płaca': 1, 'Młodzieży': 1, 'Publikacja': 1, 'Tax Guide': 1, 'Pracownika': 1, 'Pracodawców Gospodarstw Domowych': 1, 'Studenci': 1, 'Formularzu': 1, 'Uzupełniający': 1, 'Goldman': 1, 'Niezwykłe': 1, 'Zadzwonić': 1, 'Załóż': 1, 'Pozwoliłabym': 1, 'Efficient': 1, 'Skopiuj': 1, 'Python': 1, 'Zakupy Google': 1, 'Yorno': 1, '\\\\u200b\\\\u200bTime Warner': 1, 'Disneyem': 1, 'Buzzfeeda': 1, 'Korea': 1, 'New Yorkers Love': 1, 'Hate Trump': 1, 'Buzzfeed': 1, 'Oceniasz': 1, 'Javy': 1, 'Niemcem': 1, 'Twitterze': 1, 'Connaught Plaza': 1, 'Bareilly': 1, 'Pradesh': 1, 'Holandia': 1, 'Jem': 1, 'Vamos': 1, 'Amerykański**^#1': 1, 'Kraj**^#2': 1, 'Wzrost**^#3': 1, 'Wzrost**^#4': 1, 'Biznes**^#5': 1, 'Passacaglia': 1, 'Fuga': 1, 'Najechane': 1, 'John': 1, 'Oszczędzaj': 1, 'Japonie': 1, 'Ryzykiem': 1, '\\\\u200b\\\\u200bWielkiy': 1, 'M&A': 1, 'Absolutnie': 1, 'Reagan': 1, '\\\\u200b\\\\u200bTwój': 1, 'Legoland San Diego': 1, 'Wharton': 1, 'Student': 1, 'Trump2052': 1, 'Windows Phyć': 1, 'Surface': 1, 'Slates': 1, 'Vodafone': 1, 'Gier': 1, 'Summer': 1, 'Hasbara': 1, 'Walta': 1, 'Fxa': 1, 'Środkowy Zachodzie': 1, 'Cali': 1, 'Sears': 1, 'One': 1, 'Pop': 1, 'Wells': 1, 'Chase': 1, 'Kevin': 1, 'Reprezentantów': 1, 'Australią': 1, 'Gdzie': 1, 'Amazona': 1, 'Stop Loss': 1, 'Profit': 1, 'Jaki': 1, 'Div': 1, 'Yelp': 1, 'Experian': 1, 'Alexę Dot': 1, 'Forda': 1, '1': 1, '414X': 1, 'Marek': 1, 'The Foolish Four': 1, 'Redditor': 1, 'Bausparvertrag': 1, 'Bausparvertraga': 1, 'Szans': 1, '@Atkins Zakładać': 1, 'Rok': 1, 'Przyszła': 1, 'Przyjść': 1, 'Obligacja': 1, 'Standardow Portfel Analiza Ryzyko': 1, 'Londyński Giełdzie': 1, 'Chicago Mercantile Exchange': 1, 'Armstrong': 1, 'Użyliśmy': 1, 'Sell Order': 1, 'Aux': 1, 'Również': 1, 'Zgadywanie': 1, 'Wielki': 1, 'To': 1, 'Ułatwia': 1, 'Literak': 1, 'Uch': 1, 'Craigslist': 1, 'Oszalałaś': 1, 'Związkom Nauczyciel': 1, 'Y+Z%': 1, 'Z%': 1, 'Innymi': 1, 'Imigranci**^#2': 1, 'Zjednoczone**^#3': 1, 'Meksykańskie**^#4': 1, 'Cruz**^#5': 1, 'Bernanke Twist': 1, 'Twist': 1, 'Alphabet': 1, 'Google Finanka': 1, 'Home': 1, 'About': 1, 'Services': 1, 'Referencja': 1, 'Photo Gallery': 1, 'Contact': 1, 'Atlas': 1, 'Lehman Brother': 1, 'Lehman Brothers': 1, 'Pedia': 1, 'Najmeddine': 1, 'Edmonton': 1, 'Publishing Edmonton': 1, 'Cedar Publishing': 1, 'Publishing Corporation Edmonton': 1, 'Cedar Publishing Edmonton': 1, 'Cedar Publishing Corporation Edmonton': 1, 'Robin Hooda': 1, 'Nottingham': 1, 'Robin Hood': 1, 'Hood': 1, 'Telsy': 1, 'Inwestowanie': 1, 'Care': 1, 'Woodinville': 1, 'Orman': 1, 'Simple Dollar': 1, 'Hahaha': 1, 'Uwielbiam': 1, 'Royalty': 1, 'Freehold Royalties': 1, 'Intl': 1, 'Cola': 1, 'Graham': 1, 'Album': 1, '^^Jestem': 1, '^^Zagłosuj': 1, '^^Skontaktować': 1, 'Cato Institute': 1, 'Mosaic Lamps': 1, 'Lamps': 1, 'Couleur': 1, 'Metal': 1, 'Joint': 1, 'Matière': 1, 'Abat': 1, 'Jour': 1, 'E14 Wymiary': 1, 'Caract Ø': 1, 'Warren Buffets': 1, 'Mary Kay': 1, 'Alaska': 1, 'Alaski': 1, 'Amex Serve': 1, 'Serve': 1, 'Michigan': 1, 'Reguła': 1, 'Reguł': 1, 'Gwarantuję': 1, 'Manager Ex Plus': 1, 'Pocatello': 1, 'Znajdź': 1, 'Boży Narodzenie': 1, 'Ojciec': 1, 'Enroć': 1, 'Zwróć': 1, 'Microsoft Word': 1, 'Tldr': 1, 'Valve Software': 1, 'Beara': 1, 'Bear': 1, 'Dimon': 1, 'Regulamin': 1, 'P2P': 1, 'Problem': 1, 'Vanguard Health Care Fund Investor': 1, '.Nie': 1, 'Robber Barrons': 1, 'Obam': 1, 'Treasuries': 1, 'Krótko': 1, 'Nowy Zelandia': 1, 'Brytyjski': 1, 'Rolnica': 1, 'Delhi': 1, 'Krishna': 1, 'Instagram': 1, 'Kwalifikatorzy': 1, 'Bank**^#1': 1, 'Znane': 1, 'Opcji': 1, '.Pomijam': 1, 'Foxem': 1, 'Witaj': 1, 'Płyta': 1, 'Zakładam': 1, 'Netos': 1, 'Tradycyjny': 1, 'Mark Zuckerberg': 1, 'Vamos Paell': 1, 'Bain': 1, 'Ninja': 1, 'Swenson': 1, 'Wall Street': 1, 'Menstruacyjny': 1, 'Tier': 1, 'Dodd': 1, 'Hoy': 1, 'Startup Culture': 1, 'Noble': 1, 'Noble Clean': 1, 'Forsythia': 1, 'Northfield Birmingham B31': 1, 'Odważę': 1, 'Do': 1, 'Kliknij': 1, '^(Wyślę': 1, '^([Często': 1, '^([Opcja': 1, 'Suggestion': 1, 'Fundusze Fidelity': 1, 'Keynes': 1, 'Szwajcaria Słowo': 1, 'Szwajcaria': 1, 'Manager': 1, 'Deloitte': 1, 'Big4': 1, 'Time Tracking': 1, 'Oklahoma City': 1, 'Design': 1, 'Oklahom': 1, 'Mint': 1, 'Nasdaq': 1, 'Billiton Ltd': 1, 'Specjalistą': 1, 'Informacji': 1, 'Szef': 1, 'Chief Information Security Officer': 1, 'Equifax': 1, 'Lib': 1, 'Barcellón': 1, 'Naked Sushi': 1, 'Barcelona': 1, 'Kukrej Group Hotels': 1, 'Seattle': 1, 'Nintendo': 1, 'Newark': 1, 'Mitt Romnea': 1, 'Włóż': 1, 'Cięcie': 1, 'Klasyfikuj': 1, 'Zebrać': 1, 'Być': 1, 'Imess': 1, 'Whatsup': 1, 'Line': 1, 'Viber': 1, 'Zalo': 1, 'Wechat': 1, 'Skype': 1, 'Popeyes': 1, 'Hugh': 1, 'Hughes': 1, 'Donuts': 1, '3520A': 1, 'Brytyjczyka': 1, 'Europejczykami': 1, 'B1/B2': 1, 'Finansowanie': 1, 'Nabywców': 1, 'Właściciel': 1, 'India': 1, 'Caliber': 1, 'Award': 1, 'Konstytucja': 1, 'Eksperymentowałem': 1, 'Klub': 1, 'Times': 1, 'Pattern Day Trader': 1, 'Brzmię': 1, 'Birds': 1, 'Xboks': 1, 'Oatly': 1, 'Arnesson': 1, 'Phoenix': 1, 'Charles Phoenix': 1, 'Fake St City State Zip Date Do': 1, 'Sprawdzanie': 1, 'Oszczędność': 1, 'Your Awesome New': 1, 'Upewnij': 1, 'Zachowaj': 1, 'Thinking Fast': 1, 'Slow': 1, 'Rei': 1, 'X%': 1, 'Powiedziano': 1, 'Dodaj': 1, 'Marsa': 1, 'Akcjonariusze': 1, 'Inwestycja': 1, 'Poszedłem': 1, 'Countrywide': 1, 'Bazylea I': 1, 'Fannie': 1, 'Freddi': 1, 'Duffa': 1, 'Hitlerem': 1, 'Gender': 1, 'L': 1, 'Odpierań': 1, 'Amazon Rewards': 1, 'Dostępny Kredyt': 1, 'Limit Kredyt': 1, 'Aktualne': 1, 'Brzmi': 1, 'Model S': 1, 'Enigne': 1, 'Next': 1, 'Bądź': 1, 'Płacisz': 1, 'Kolorado': 1, 'Uniwersytecie Waszyngtoński': 1, 'Susan': 1, 'Formuły': 1, 'Axis': 1, 'Fixed Deposit': 1, 'Tbond': 1, 'Tbonds': 1, 'Jedyną': 1, 'Herndon': 1, 'Fairfax': 1, 'Loudoun': 1, 'Building': 1, 'Czerwony Krzyż': 1, 'Ewakuacja': 1, 'Momentum': 1, 'Twojy': 1, 'Zyski': 1, 'Załącznik D': 1, 'Wu': 1, 'Silvan Tenreyro': 1, 'London School': 1, 'George Borjas': 1, 'Harvarda': 1, 'Top': 1, 'Profesor**^#3': 1, '1040A': 1, 'New Vision': 1, 'British Council': 1, 'Investment Trusts': 1, 'Firm Inwestycyjnych': 1, 'Bezos': 1, 'New Egg': 1, 'B4': 1, 'M7': 1, 'Radziłbym': 1, 'Charles Schwab': 1, 'Albert': 1, 'Zanurzyłem': 1, 'Hydraulik': 1, 'San Jose': 1})\n"
     ]
    }
   ],
   "source": [
    "def count_words(column):\n",
    "    counter = Counter()\n",
    "    for value in column:\n",
    "        if value: \n",
    "            words = [word.strip(\"' \") for word in value.split(\",\")]\n",
    "            counter.update(words)\n",
    "    return counter\n",
    "\n",
    "word_count_dict = count_words(df_1000['expressions'])\n",
    "\n",
    "print(word_count_dict)"
   ],
   "metadata": {
    "collapsed": false,
    "ExecuteTime": {
     "end_time": "2024-12-04T23:12:10.744571Z",
     "start_time": "2024-12-04T23:12:10.741299Z"
    }
   },
   "id": "9b7efc727da590ba",
   "execution_count": 19
  },
  {
   "cell_type": "code",
   "outputs": [
    {
     "data": {
      "text/plain": "[('Twój', 62),\n ('Ciebie', 55),\n ('Roth', 34),\n ('Stany Zjednoczone', 33),\n ('Indie', 26),\n ('Apple', 22),\n ('B', 19),\n ('S&P', 19),\n ('X', 18),\n ('Vanguard', 17),\n ('Internet', 17),\n ('Kanada', 14),\n ('Twoją', 13),\n ('C', 12),\n ('A', 12),\n ('Wielki Brytania', 11),\n ('Bitcoin', 11),\n ('Trump', 11),\n ('Twojej', 11),\n ('E', 11),\n ('Amazon', 11),\n ('Fed', 10),\n ('Microsoft', 10),\n ('Y', 9),\n ('Google', 9),\n ('Huawei', 9),\n ('Europa', 8),\n ('Twojego', 8),\n ('Walmart', 8),\n ('Najlepsze', 8),\n ('W', 8),\n ('^Wyklucz', 8),\n ('Wyklucz', 8),\n ('Australia', 7),\n ('Francja', 7),\n ('Twoich', 7),\n ('Ameryka', 7),\n ('Rozszerzone', 7),\n ('R', 7),\n ('Facebook', 7),\n ('P', 7),\n ('Linkedin', 7),\n ('K', 6),\n ('Fidelity', 6),\n ('S', 6),\n ('Money', 6),\n ('Vice', 6),\n ('Uber', 6),\n ('M1', 6),\n ('Accenture', 6)]"
     },
     "execution_count": 20,
     "metadata": {},
     "output_type": "execute_result"
    }
   ],
   "source": [
    "word_count_dict.most_common(50)"
   ],
   "metadata": {
    "collapsed": false,
    "ExecuteTime": {
     "end_time": "2024-12-04T23:12:53.177282Z",
     "start_time": "2024-12-04T23:12:53.171526Z"
    }
   },
   "id": "64560aaf2ab6612c",
   "execution_count": 20
  },
  {
   "cell_type": "code",
   "outputs": [],
   "source": [
    "def identify_entities(document):\n",
    "    doc = nlp(document)\n",
    "    entities_labels = [(ent.text, ent.label_) for ent in doc.ents]\n",
    "    return entities_labels\n",
    "df_1000['expressions_spacy'] = df_1000['text_lemmat'].apply(identify_entities)"
   ],
   "metadata": {
    "collapsed": false,
    "ExecuteTime": {
     "end_time": "2024-12-04T23:16:54.226006Z",
     "start_time": "2024-12-04T23:16:33.431618Z"
    }
   },
   "id": "9ec43db24f4ca2eb",
   "execution_count": 22
  },
  {
   "cell_type": "code",
   "outputs": [
    {
     "data": {
      "text/plain": "          _id title                                               text  \\\n47960  498437        Domyślam się, że do tej pory budowanie w górę ...   \n34367  356387        * Bojack = okropne * Mindhunter = dobrze * Duż...   \n14705  151504        Pieniądze mnie cholernie stresują, trudno nie ...   \n36379  377941        „Jestem wykonawcą i zwykle dorzucam kilka doda...   \n9438    97347        W przypadku większości osób nie ma żadnej różn...   \n...       ...   ...                                                ...   \n24897  257832        „Radziłbym ci skorzystać z usług brokera. Nawe...   \n46367  482095        „Zasada, której należy przestrzegać, nazywa si...   \n48683  505753        Nie zgadzam się. W początkowych fazach II wojn...   \n13448  138300        „Hej, po prostu informując cię, że czułem się ...   \n23135  239587        W mieszkaniu, które wynająłem w San Jose, był ...   \n\n                                             text_lemmat  \\\n47960  Domyślam się , że do ten pora budować w góra b...   \n34367  * Bojack = okropny * mindhunter = dobrze * duż...   \n14705  pieniądz ja cholernie stresować , trudno nie b...   \n36379  „ być wykonawca i zwykle dorzucać kilka dodatk...   \n9438   w przypadek większość osoba nie mieć żaden róż...   \n...                                                  ...   \n24897  „ Radziłbym ty skorzystać z usługa broker . na...   \n46367  „ zasada , który należeć przestrzegać , nazywa...   \n48683  nie zgadzać się . w początkowy faz II wojna św...   \n13448  „ hej , po prosty informować ty , że czuć być ...   \n23135  w mieszkanie , który wynająć być w San Jose , ...   \n\n                                             expressions  \\\n47960                                                      \n34367  'Bojack', 'Bestie', 'The Crown', 'Lithgow', 'C...   \n14705                                                      \n36379                                                      \n9438                                 'Gmaila', 'Hotmail'   \n...                                                  ...   \n24897                      'Radziłbym', 'Charles Schwab'   \n46367                                                      \n48683                                    'Bliski Wschód'   \n13448                'Albert', 'Zanurzyłem', 'Hydraulik'   \n23135                                         'San Jose'   \n\n                                       expressions_spacy  \n47960                                                 []  \n34367  [(Bestie, persName), (Lithgow, persName), (Chu...  \n14705                                                 []  \n36379                                    [(OT, orgName)]  \n9438            [(Gmaila, persName), (Hotmail, orgName)]  \n...                                                  ...  \n24897                       [(Charles Schwab, persName)]  \n46367                                                 []  \n48683  [(Bliski Wschód, geogName), (tona, persName), ...  \n13448  [(Albert, placeName), (HVAC, orgName), (Hydrau...  \n23135                              [(San Jose, orgName)]  \n\n[1000 rows x 6 columns]",
      "text/html": "<div>\n<style scoped>\n    .dataframe tbody tr th:only-of-type {\n        vertical-align: middle;\n    }\n\n    .dataframe tbody tr th {\n        vertical-align: top;\n    }\n\n    .dataframe thead th {\n        text-align: right;\n    }\n</style>\n<table border=\"1\" class=\"dataframe\">\n  <thead>\n    <tr style=\"text-align: right;\">\n      <th></th>\n      <th>_id</th>\n      <th>title</th>\n      <th>text</th>\n      <th>text_lemmat</th>\n      <th>expressions</th>\n      <th>expressions_spacy</th>\n    </tr>\n  </thead>\n  <tbody>\n    <tr>\n      <th>47960</th>\n      <td>498437</td>\n      <td></td>\n      <td>Domyślam się, że do tej pory budowanie w górę ...</td>\n      <td>Domyślam się , że do ten pora budować w góra b...</td>\n      <td></td>\n      <td>[]</td>\n    </tr>\n    <tr>\n      <th>34367</th>\n      <td>356387</td>\n      <td></td>\n      <td>* Bojack = okropne * Mindhunter = dobrze * Duż...</td>\n      <td>* Bojack = okropny * mindhunter = dobrze * duż...</td>\n      <td>'Bojack', 'Bestie', 'The Crown', 'Lithgow', 'C...</td>\n      <td>[(Bestie, persName), (Lithgow, persName), (Chu...</td>\n    </tr>\n    <tr>\n      <th>14705</th>\n      <td>151504</td>\n      <td></td>\n      <td>Pieniądze mnie cholernie stresują, trudno nie ...</td>\n      <td>pieniądz ja cholernie stresować , trudno nie b...</td>\n      <td></td>\n      <td>[]</td>\n    </tr>\n    <tr>\n      <th>36379</th>\n      <td>377941</td>\n      <td></td>\n      <td>„Jestem wykonawcą i zwykle dorzucam kilka doda...</td>\n      <td>„ być wykonawca i zwykle dorzucać kilka dodatk...</td>\n      <td></td>\n      <td>[(OT, orgName)]</td>\n    </tr>\n    <tr>\n      <th>9438</th>\n      <td>97347</td>\n      <td></td>\n      <td>W przypadku większości osób nie ma żadnej różn...</td>\n      <td>w przypadek większość osoba nie mieć żaden róż...</td>\n      <td>'Gmaila', 'Hotmail'</td>\n      <td>[(Gmaila, persName), (Hotmail, orgName)]</td>\n    </tr>\n    <tr>\n      <th>...</th>\n      <td>...</td>\n      <td>...</td>\n      <td>...</td>\n      <td>...</td>\n      <td>...</td>\n      <td>...</td>\n    </tr>\n    <tr>\n      <th>24897</th>\n      <td>257832</td>\n      <td></td>\n      <td>„Radziłbym ci skorzystać z usług brokera. Nawe...</td>\n      <td>„ Radziłbym ty skorzystać z usługa broker . na...</td>\n      <td>'Radziłbym', 'Charles Schwab'</td>\n      <td>[(Charles Schwab, persName)]</td>\n    </tr>\n    <tr>\n      <th>46367</th>\n      <td>482095</td>\n      <td></td>\n      <td>„Zasada, której należy przestrzegać, nazywa si...</td>\n      <td>„ zasada , który należeć przestrzegać , nazywa...</td>\n      <td></td>\n      <td>[]</td>\n    </tr>\n    <tr>\n      <th>48683</th>\n      <td>505753</td>\n      <td></td>\n      <td>Nie zgadzam się. W początkowych fazach II wojn...</td>\n      <td>nie zgadzać się . w początkowy faz II wojna św...</td>\n      <td>'Bliski Wschód'</td>\n      <td>[(Bliski Wschód, geogName), (tona, persName), ...</td>\n    </tr>\n    <tr>\n      <th>13448</th>\n      <td>138300</td>\n      <td></td>\n      <td>„Hej, po prostu informując cię, że czułem się ...</td>\n      <td>„ hej , po prosty informować ty , że czuć być ...</td>\n      <td>'Albert', 'Zanurzyłem', 'Hydraulik'</td>\n      <td>[(Albert, placeName), (HVAC, orgName), (Hydrau...</td>\n    </tr>\n    <tr>\n      <th>23135</th>\n      <td>239587</td>\n      <td></td>\n      <td>W mieszkaniu, które wynająłem w San Jose, był ...</td>\n      <td>w mieszkanie , który wynająć być w San Jose , ...</td>\n      <td>'San Jose'</td>\n      <td>[(San Jose, orgName)]</td>\n    </tr>\n  </tbody>\n</table>\n<p>1000 rows × 6 columns</p>\n</div>"
     },
     "execution_count": 23,
     "metadata": {},
     "output_type": "execute_result"
    }
   ],
   "source": [
    "df_1000"
   ],
   "metadata": {
    "collapsed": false,
    "ExecuteTime": {
     "end_time": "2024-12-04T23:16:58.591149Z",
     "start_time": "2024-12-04T23:16:58.585034Z"
    }
   },
   "id": "c8a6b0e96814101a",
   "execution_count": 23
  },
  {
   "cell_type": "code",
   "outputs": [
    {
     "name": "stdout",
     "output_type": "stream",
     "text": [
      "Most popular classes:\n",
      "Counter({'orgName': 772, 'placeName': 558, 'persName': 533, 'date': 230, 'geogName': 84, 'time': 6})\n"
     ]
    }
   ],
   "source": [
    "def count_classes(column):\n",
    "    counter = Counter()\n",
    "    for value in column:\n",
    "        if value:  # Skip empty or None values\n",
    "            # Extract classes (2nd element of each tuple) and update the counter\n",
    "            classes = [cls for _, cls in value]\n",
    "            counter.update(classes)\n",
    "    return counter\n",
    "\n",
    "class_count_dict = count_classes(df_1000['expressions_spacy'])\n",
    "print(\"Most popular classes:\")\n",
    "print(class_count_dict)"
   ],
   "metadata": {
    "collapsed": false,
    "ExecuteTime": {
     "end_time": "2024-12-04T23:28:31.132433Z",
     "start_time": "2024-12-04T23:28:31.129277Z"
    }
   },
   "id": "28b6e05ca2fa002f",
   "execution_count": 36
  },
  {
   "cell_type": "code",
   "outputs": [
    {
     "name": "stdout",
     "output_type": "stream",
     "text": [
      "Most popular entities and their classes:\n",
      "USA (placeName): 97\n",
      "amerykański (placeName): 69\n",
      "IRA (orgName): 68\n",
      "Stany Zjednoczone (placeName): 32\n",
      "ETF (orgName): 32\n",
      "Indie (placeName): 25\n",
      "Apple (orgName): 21\n",
      "Roth (orgName): 16\n",
      "Kanada (placeName): 15\n",
      "1040 (date): 13\n",
      "HSA (orgName): 13\n",
      "LLC (orgName): 12\n",
      "Roth IRA (orgName): 12\n",
      "Amazon (persName): 11\n",
      "Microsoft (orgName): 11\n",
      "Vanguard (persName): 10\n",
      "2008 rok (date): 10\n",
      "PE (orgName): 10\n",
      "S&P (orgName): 10\n",
      "IBM (orgName): 9\n",
      "Trump (persName): 9\n",
      "Wielki Brytania (placeName): 9\n",
      "angielski (placeName): 8\n",
      "Ameryka (placeName): 8\n",
      "chiński (placeName): 8\n",
      "europejski (geogName): 8\n",
      "Wyklucz (persName): 8\n",
      "2011 rok (date): 7\n",
      "2012 rok (date): 7\n",
      "Francja (placeName): 7\n",
      "EBITDA (orgName): 7\n",
      "Bitcoin (persName): 7\n",
      "Google (orgName): 7\n",
      "grudzień (date): 7\n",
      "2015 rok (date): 7\n",
      "UE (orgName): 7\n",
      "indyjski (placeName): 7\n",
      "2016 rok (date): 7\n",
      "FDIC (orgName): 7\n",
      "Linkedin (persName): 7\n",
      "Huawei (persName): 7\n",
      "Europa (geogName): 6\n",
      "MBA (orgName): 6\n",
      "STEM (orgName): 6\n",
      "2017 rok (date): 6\n",
      "Chicago (placeName): 6\n",
      "RSI (orgName): 6\n",
      "2014 rok (date): 6\n",
      "TARP (orgName): 6\n",
      "SEP (orgName): 6\n"
     ]
    }
   ],
   "source": [
    "def count_entities_and_classes(column):\n",
    "    entity_class_counter = Counter() \n",
    "    for value in column:\n",
    "        if value:  # Skip empty \n",
    "            for entity, entity_type in value:\n",
    "                entity_class_counter[(entity, entity_type)] += 1\n",
    "    return entity_class_counter\n",
    "\n",
    "entities_and_classes_count_dict = count_entities_and_classes(df_1000['expressions_spacy'])\n",
    "\n",
    "print(\"Most popular entities and their classes:\")\n",
    "for (entity, entity_type), count in entities_and_classes_count_dict.most_common(50):\n",
    "    print(f\"{entity} ({entity_type}): {count}\")"
   ],
   "metadata": {
    "collapsed": false,
    "ExecuteTime": {
     "end_time": "2024-12-04T23:28:31.979255Z",
     "start_time": "2024-12-04T23:28:31.971620Z"
    }
   },
   "id": "738154df8bcc4f9e",
   "execution_count": 37
  },
  {
   "cell_type": "code",
   "outputs": [
    {
     "data": {
      "text/plain": "<Figure size 800x500 with 1 Axes>",
      "image/png": "[encoded data removed]"
     },
     "metadata": {},
     "output_type": "display_data"
    }
   ],
   "source": [
    "classes = list(class_count_dict.keys())\n",
    "counts = list(class_count_dict.values())\n",
    "\n",
    "# Plot the histogram\n",
    "plt.figure(figsize=(8, 5))\n",
    "plt.bar(classes, counts, color='skyblue', edgecolor='black')\n",
    "plt.title('Class Occurrences Histogram', fontsize=16)\n",
    "plt.xlabel('Classes', fontsize=14)\n",
    "plt.ylabel('Counts', fontsize=14)\n",
    "plt.xticks(fontsize=12)\n",
    "plt.yticks(fontsize=12)\n",
    "plt.grid(axis='y', linestyle='--', alpha=0.7)\n",
    "plt.show()"
   ],
   "metadata": {
    "collapsed": false,
    "ExecuteTime": {
     "end_time": "2024-12-04T23:28:34.144294Z",
     "start_time": "2024-12-04T23:28:34.079824Z"
    }
   },
   "id": "b89100274aeb656",
   "execution_count": 38
  },
  {
   "cell_type": "code",
   "outputs": [
    {
     "name": "stdout",
     "output_type": "stream",
     "text": [
      "Top 10 entities for type 'persName':\n",
      "  Amazon: 11\n",
      "  Vanguard: 10\n",
      "  Trump: 9\n",
      "  Wyklucz: 8\n",
      "  Bitcoin: 7\n",
      "  Linkedin: 7\n",
      "  Huawei: 7\n",
      "  BUM: 5\n",
      "  Walmart: 4\n",
      "  Fed: 4\n",
      "----------------------------------------\n",
      "Top 10 entities for type 'orgName':\n",
      "  IRA: 68\n",
      "  ETF: 32\n",
      "  Apple: 21\n",
      "  Roth: 16\n",
      "  HSA: 13\n",
      "  LLC: 12\n",
      "  Roth IRA: 12\n",
      "  Microsoft: 11\n",
      "  PE: 10\n",
      "  S&P: 10\n",
      "----------------------------------------\n",
      "Top 10 entities for type 'placeName':\n",
      "  USA: 97\n",
      "  amerykański: 69\n",
      "  Stany Zjednoczone: 32\n",
      "  Indie: 25\n",
      "  Kanada: 15\n",
      "  Wielki Brytania: 9\n",
      "  angielski: 8\n",
      "  Ameryka: 8\n",
      "  chiński: 8\n",
      "  Francja: 7\n",
      "----------------------------------------\n",
      "Top 10 entities for type 'date':\n",
      "  1040: 13\n",
      "  2008 rok: 10\n",
      "  2011 rok: 7\n",
      "  2012 rok: 7\n",
      "  grudzień: 7\n",
      "  2015 rok: 7\n",
      "  2016 rok: 7\n",
      "  2017 rok: 6\n",
      "  2014 rok: 6\n",
      "  1099: 5\n",
      "----------------------------------------\n",
      "Top 10 entities for type 'geogName':\n",
      "  europejski: 8\n",
      "  Europa: 6\n",
      "  Apple: 2\n",
      "  Circuit City: 2\n",
      "  Azja: 2\n",
      "  Bliski Wschód: 2\n",
      "  Airbnb: 2\n",
      "  Wall St .: 2\n",
      "  EBIT: 2\n",
      "  Inżynierowie: 1\n",
      "----------------------------------------\n",
      "Top 10 entities for type 'time':\n",
      "  godzina 15:00: 1\n",
      "  11 rano: 1\n",
      "  południe: 1\n",
      "  08: 1\n",
      "  6 .: 1\n",
      "  00: 1\n",
      "----------------------------------------\n"
     ]
    }
   ],
   "source": [
    "def count_entities(column):\n",
    "    entity_type_counters = {}  # Dictionary to hold counters for each entity type\n",
    "    for value in column:\n",
    "        if value:  # Skip empty or None values\n",
    "            # Extract entities (1st element is the entity, 2nd is the entity type)\n",
    "            for entity, entity_type in value:\n",
    "                if entity_type not in entity_type_counters:\n",
    "                    entity_type_counters[entity_type] = Counter()\n",
    "                entity_type_counters[entity_type][entity] += 1\n",
    "    return entity_type_counters\n",
    "\n",
    "entities_count_dict = count_entities(df_1000['expressions_spacy'])\n",
    "\n",
    "# Display the 10 most frequent entities for each type\n",
    "for entity_type, counter in entities_count_dict.items():\n",
    "    print(f\"Top 10 entities for type '{entity_type}':\")\n",
    "    for entity, count in counter.most_common(10):\n",
    "        print(f\"  {entity}: {count}\")\n",
    "    print(\"-\" * 40)"
   ],
   "metadata": {
    "collapsed": false,
    "ExecuteTime": {
     "end_time": "2024-12-04T23:28:35.598746Z",
     "start_time": "2024-12-04T23:28:35.592362Z"
    }
   },
   "id": "316fec13eb2ed3ae",
   "execution_count": 39
  },
  {
   "cell_type": "code",
   "outputs": [],
   "source": [
    "sentence_with_more_classes = []\n",
    "for index, row in df_1000.iloc[100:].iterrows():\n",
    "    document = row['text']\n",
    "    doc = nlp(row['text_lemmat'])\n",
    "    selected_sentences = [sent.text for sent in doc.sents if len(set([ent.label_ for ent in sent.ents])) > 1]\n",
    "    sentence_with_more_classes.extend(selected_sentences)\n",
    "    if len(sentence_with_more_classes) ==5:\n",
    "      break"
   ],
   "metadata": {
    "collapsed": false,
    "ExecuteTime": {
     "end_time": "2024-12-04T23:33:08.799368Z",
     "start_time": "2024-12-04T23:33:08.375366Z"
    }
   },
   "id": "e1f79149b3e0931e",
   "execution_count": 44
  },
  {
   "cell_type": "code",
   "outputs": [
    {
     "data": {
      "text/plain": "['myśleć , że State Farm lub Allstate chcieć to zrobić ?',\n 'zapotrzebowanie na kariera STEM w 2020 rok wzrosnąć w stosunek do dzisiejszy potrzeba o około 50 % ( departament , 2015 ) .',\n 'edukacja STEM być ważny w konkurencyjny gospodarka światowy , a Stany Zjednoczone pozostawać w tyle w kształceniu młodzież .',\n 'odwiedź strona http://www.techjoyntfranchise.com/ , aby znaleźć edukacja wyznaczoną przez STEM w Stany Zjednoczone .',\n 'zgodnie z raport US Energy Information Administration z 2015 rok . , ponad 50 % wszystek dotacja ( 15 miliard dolar z zaledwie 30 miliard dolar ) być przeznaczyć na odnawialny źródło energia , podczas gdy wytwarzać się mniej niż 15 % energia , a energia słoneczny stanowić aż 0,005 % ( w zaokrąglenie ) .']"
     },
     "execution_count": 46,
     "metadata": {},
     "output_type": "execute_result"
    }
   ],
   "source": [
    "sentence_with_more_classes"
   ],
   "metadata": {
    "collapsed": false,
    "ExecuteTime": {
     "end_time": "2024-12-04T23:33:13.451163Z",
     "start_time": "2024-12-04T23:33:13.448907Z"
    }
   },
   "id": "5171a76f8768511c",
   "execution_count": 46
  },
  {
   "cell_type": "code",
   "outputs": [],
   "source": [
    "def display_sentence(sentence):\n",
    "    doc = nlp(sentence)\n",
    "    displacy.render(doc, style=\"ent\", jupyter=True)"
   ],
   "metadata": {
    "collapsed": false,
    "ExecuteTime": {
     "end_time": "2024-12-04T23:35:01.150434Z",
     "start_time": "2024-12-04T23:35:01.147394Z"
    }
   },
   "id": "37291695a0db597f",
   "execution_count": 50
  },
  {
   "cell_type": "code",
   "outputs": [
    {
     "data": {
      "text/plain": "<IPython.core.display.HTML object>",
      "text/html": "<span class=\"tex2jax_ignore\"><div class=\"entities\" style=\"line-height: 2.5; direction: ltr\">myśleć , że \n<mark class=\"entity\" style=\"background: #ddd; padding: 0.45em 0.6em; margin: 0 0.25em; line-height: 1; border-radius: 0.35em;\">\n    State Farm\n    <span style=\"font-size: 0.8em; font-weight: bold; line-height: 1; border-radius: 0.35em; vertical-align: middle; margin-left: 0.5rem\">placeName</span>\n</mark>\n lub \n<mark class=\"entity\" style=\"background: #ddd; padding: 0.45em 0.6em; margin: 0 0.25em; line-height: 1; border-radius: 0.35em;\">\n    Allstate\n    <span style=\"font-size: 0.8em; font-weight: bold; line-height: 1; border-radius: 0.35em; vertical-align: middle; margin-left: 0.5rem\">persName</span>\n</mark>\n chcieć to zrobić ?</div></span>"
     },
     "metadata": {},
     "output_type": "display_data"
    },
    {
     "data": {
      "text/plain": "<IPython.core.display.HTML object>",
      "text/html": "<span class=\"tex2jax_ignore\"><div class=\"entities\" style=\"line-height: 2.5; direction: ltr\">zapotrzebowanie na kariera \n<mark class=\"entity\" style=\"background: #ddd; padding: 0.45em 0.6em; margin: 0 0.25em; line-height: 1; border-radius: 0.35em;\">\n    STEM\n    <span style=\"font-size: 0.8em; font-weight: bold; line-height: 1; border-radius: 0.35em; vertical-align: middle; margin-left: 0.5rem\">orgName</span>\n</mark>\n w \n<mark class=\"entity\" style=\"background: #bfe1d9; padding: 0.45em 0.6em; margin: 0 0.25em; line-height: 1; border-radius: 0.35em;\">\n    2020 rok\n    <span style=\"font-size: 0.8em; font-weight: bold; line-height: 1; border-radius: 0.35em; vertical-align: middle; margin-left: 0.5rem\">date</span>\n</mark>\n wzrosnąć w stosunek do dzisiejszy potrzeba o około 50 % ( departament , \n<mark class=\"entity\" style=\"background: #bfe1d9; padding: 0.45em 0.6em; margin: 0 0.25em; line-height: 1; border-radius: 0.35em;\">\n    2015\n    <span style=\"font-size: 0.8em; font-weight: bold; line-height: 1; border-radius: 0.35em; vertical-align: middle; margin-left: 0.5rem\">date</span>\n</mark>\n ) .</div></span>"
     },
     "metadata": {},
     "output_type": "display_data"
    },
    {
     "data": {
      "text/plain": "<IPython.core.display.HTML object>",
      "text/html": "<span class=\"tex2jax_ignore\"><div class=\"entities\" style=\"line-height: 2.5; direction: ltr\">edukacja \n<mark class=\"entity\" style=\"background: #ddd; padding: 0.45em 0.6em; margin: 0 0.25em; line-height: 1; border-radius: 0.35em;\">\n    STEM\n    <span style=\"font-size: 0.8em; font-weight: bold; line-height: 1; border-radius: 0.35em; vertical-align: middle; margin-left: 0.5rem\">orgName</span>\n</mark>\n być ważny w konkurencyjny gospodarka światowy , a \n<mark class=\"entity\" style=\"background: #ddd; padding: 0.45em 0.6em; margin: 0 0.25em; line-height: 1; border-radius: 0.35em;\">\n    Stany Zjednoczone\n    <span style=\"font-size: 0.8em; font-weight: bold; line-height: 1; border-radius: 0.35em; vertical-align: middle; margin-left: 0.5rem\">placeName</span>\n</mark>\n pozostawać w tyle w kształceniu młodzież .</div></span>"
     },
     "metadata": {},
     "output_type": "display_data"
    },
    {
     "data": {
      "text/plain": "<IPython.core.display.HTML object>",
      "text/html": "<span class=\"tex2jax_ignore\"><div class=\"entities\" style=\"line-height: 2.5; direction: ltr\">odwiedź strona http://www.techjoyntfranchise.com/ , aby znaleźć edukacja wyznaczoną przez \n<mark class=\"entity\" style=\"background: #ddd; padding: 0.45em 0.6em; margin: 0 0.25em; line-height: 1; border-radius: 0.35em;\">\n    STEM\n    <span style=\"font-size: 0.8em; font-weight: bold; line-height: 1; border-radius: 0.35em; vertical-align: middle; margin-left: 0.5rem\">orgName</span>\n</mark>\n w \n<mark class=\"entity\" style=\"background: #ddd; padding: 0.45em 0.6em; margin: 0 0.25em; line-height: 1; border-radius: 0.35em;\">\n    Stany Zjednoczone\n    <span style=\"font-size: 0.8em; font-weight: bold; line-height: 1; border-radius: 0.35em; vertical-align: middle; margin-left: 0.5rem\">placeName</span>\n</mark>\n .</div></span>"
     },
     "metadata": {},
     "output_type": "display_data"
    },
    {
     "data": {
      "text/plain": "<IPython.core.display.HTML object>",
      "text/html": "<span class=\"tex2jax_ignore\"><div class=\"entities\" style=\"line-height: 2.5; direction: ltr\">zgodnie z raport \n<mark class=\"entity\" style=\"background: #ddd; padding: 0.45em 0.6em; margin: 0 0.25em; line-height: 1; border-radius: 0.35em;\">\n    US Energy Information Administration\n    <span style=\"font-size: 0.8em; font-weight: bold; line-height: 1; border-radius: 0.35em; vertical-align: middle; margin-left: 0.5rem\">orgName</span>\n</mark>\n z \n<mark class=\"entity\" style=\"background: #bfe1d9; padding: 0.45em 0.6em; margin: 0 0.25em; line-height: 1; border-radius: 0.35em;\">\n    2015 rok\n    <span style=\"font-size: 0.8em; font-weight: bold; line-height: 1; border-radius: 0.35em; vertical-align: middle; margin-left: 0.5rem\">date</span>\n</mark>\n . , ponad 50 % wszystek dotacja ( 15 miliard dolar z zaledwie 30 miliard dolar ) być przeznaczyć na odnawialny źródło energia , podczas gdy wytwarzać się mniej niż 15 % energia , a energia słoneczny stanowić aż 0,005 % ( w zaokrąglenie ) .</div></span>"
     },
     "metadata": {},
     "output_type": "display_data"
    }
   ],
   "source": [
    "for elem in sentence_with_more_classes:\n",
    "    display_sentence(elem)"
   ],
   "metadata": {
    "collapsed": false,
    "ExecuteTime": {
     "end_time": "2024-12-04T23:35:17.171831Z",
     "start_time": "2024-12-04T23:35:17.121187Z"
    }
   },
   "id": "6faeaaa530ab8adb",
   "execution_count": 51
  },
  {
   "cell_type": "markdown",
   "source": [
    "# Wnioski\n",
    "\n",
    "Ciekawe proste szybkie i wartościowe ćwiczenie, własna implementacja + dobry gotowiec. Idealne połączenie na laby. Wyniki ze spacy wychodzą bardzo dobre, lematyzer do języka Polskiego szokująco dobry. Rozwiązanie zakodzone własnoręcznie, no ma dużo wad, pomijamy pierwsze słowo a wydaje mi się, że ono dośc często mimoo wszystko jest właśnie named entity. Spacy bardzo przejrzyste i przyjemne w obsłudze. Spacy działa szybko, miła odskocznia od modelu neurnowoych. Dokumentacja dobra i wiele wbudowanych funckcji. Same NERy inticyjnie proste do zrozumienia, proste do używania ze spacy, widac w tym potencjał i wiele praktycznych zastosowań. Jedno z lepszych ćwiczeń jak do tej pory. Przed kursem, nie wiedizałem o czymś takim jak NER, teraz jest to proste i zrozumiałe dodatkowo wiem, jak można skorzystac z gotowej libki żeby odrazu używać. \n",
    "\n",
    "\n",
    "Which of the method (counting expressions with capital letters vs. NER) worked better for the task concerned with identification of the proper names?\n",
    "Wiadomo, że NER, zliczanie jest zbyt naiwne dodatkowo pomijamy pierwsze słowo. W wynikach dominuje \"Twoich\" i \"Ciebie\" to nie są EN. NER dał zancznie lepsze wyniki, jednak zakodzenie naiwnego podejścia daje jakieś tam wstepne wyniki, pomaga zrozumieć działanie całego algorytmu i uświadamia o jak wielu przypadkach szczególnych trzeba pamiętać. \n",
    "What are the drawbacks of the method based on capital letters?\n",
    "Pomijamy pierwsze słowa, zwroty grzecznościowe są wliczane do EN oraz takie słowa jak \"Ciebie\".\n",
    "What are the drawbacks of the method based on NER?\n",
    "Trzeba doczytać dokumentacje, chyba trochę dużej się liczyło.\n",
    "Which of the coarse-grained NER groups has the best and which has the worst results? Try to justify this observation.\n",
    "Time - najbardziej ustrukturyzowane, dużo bardziej niż np nazwy firm czy nazwy miejsce\n",
    "Do you think NER is sufficient for identifying different occurrences of the same entity (i.e. consider \"USA\" and \"Stany Zjednoczone\" and \"Stany Zjednoczone Ameryki Północnej\")? If not, can you suggest an algorithm or a tool that would be able to group such names together?\n",
    "Może mieć problemy, na pewno pomoże mu lematyzacja. Jednak sam podstawowy NER nie połączy raczej USA ze Stanami Zjednonoczymi, można by tutaj wprowadzić mapę i mapowac te 'różne' słowa na to samo (hard coding) lub użyć modelu ML w celu 'rozumienia' tych dwóch zwrotów jako równoważnych.\n",
    "Can you think of a real world problem that would benefit the most from application of Named Entity Recognition algorithm?\n",
    "Rekomendacje, można by wyciągac np z artykułów nazwy firm o jakich czyta użytkownik i sugerowac mu inne artykuły o tych samych nazwach firm. Lub o ludziach, czy jakakolwkiem EN by nas interesowała do polecenia."
   ],
   "metadata": {
    "collapsed": false
   },
   "id": "70ca63513ee466b4"
  },
  {
   "cell_type": "code",
   "outputs": [],
   "source": [],
   "metadata": {
    "collapsed": false
   },
   "id": "81307e60225971ea"
  }
 ],
 "metadata": {
  "kernelspec": {
   "display_name": "Python 3",
   "language": "python",
   "name": "python3"
  },
  "language_info": {
   "codemirror_mode": {
    "name": "ipython",
    "version": 2
   },
   "file_extension": ".py",
   "mimetype": "text/x-python",
   "name": "python",
   "nbconvert_exporter": "python",
   "pygments_lexer": "ipython2",
   "version": "2.7.6"
  }
 },
 "nbformat": 4,
 "nbformat_minor": 5
}
