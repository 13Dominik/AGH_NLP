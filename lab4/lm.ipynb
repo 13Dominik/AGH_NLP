{
 "cells": [
  {
   "cell_type": "code",
   "execution_count": 59,
   "id": "initial_id",
   "metadata": {
    "ExecuteTime": {
     "end_time": "2024-11-19T21:09:33.540723Z",
     "start_time": "2024-11-19T21:09:33.537960Z"
    },
    "collapsed": true,
    "jupyter": {
     "outputs_hidden": true
    }
   },
   "outputs": [],
   "source": [
    "from transformers import pipeline\n",
    "from transformers import AutoTokenizer, AutoModelWithLMHead\n",
    "import random\n",
    "random.seed(2137)  # Ustawienie seed"
   ]
  },
  {
   "cell_type": "code",
   "execution_count": 60,
   "id": "5d41cf592baf5eaa",
   "metadata": {
    "ExecuteTime": {
     "end_time": "2024-11-19T21:09:33.564018Z",
     "start_time": "2024-11-19T21:09:33.561020Z"
    },
    "collapsed": false,
    "jupyter": {
     "outputs_hidden": false
    }
   },
   "outputs": [],
   "source": [
    "def predict_masked_sentence(model_name, sentence, top_k=3):\n",
    "    \"\"\" sentence needs to contain <mask> \"\"\"\n",
    "    unmasked_text = pipeline(\"fill-mask\", model=model_name)\n",
    "    preds = unmasked_text(sentence, top_k=top_k)\n",
    "    for pred in preds:\n",
    "        print(pred['sequence'])"
   ]
  },
  {
   "cell_type": "code",
   "execution_count": 61,
   "id": "fe64aed6f0faa6ab",
   "metadata": {
    "ExecuteTime": {
     "end_time": "2024-11-19T21:09:33.566914Z",
     "start_time": "2024-11-19T21:09:33.564926Z"
    },
    "collapsed": false,
    "jupyter": {
     "outputs_hidden": false
    }
   },
   "outputs": [],
   "source": [
    "model_sdadas = 'sdadas/polish-splade'\n",
    "model_herbert = 'BartekK/distilHerBERT-base-cased'\n",
    "model_trelbert = 'deepsense-ai/trelbert'\n",
    "models_list = [model_sdadas,model_herbert,model_trelbert]"
   ]
  },
  {
   "cell_type": "code",
   "execution_count": 62,
   "id": "6bb2fd3204863f5c",
   "metadata": {
    "ExecuteTime": {
     "end_time": "2024-11-19T21:09:33.569473Z",
     "start_time": "2024-11-19T21:09:33.567538Z"
    },
    "collapsed": false,
    "jupyter": {
     "outputs_hidden": false
    }
   },
   "outputs": [],
   "source": [
    "def predict_masked_sentences(sentences, models=models_list, top_k=1):\n",
    "    for sentence in sentences:\n",
    "        print(\"######################################################\")\n",
    "        print(\"Sentence: \", sentence)\n",
    "        print(\"######################################################\")\n",
    "        for model in models:\n",
    "            print(\"------------------------------------\")\n",
    "            print(f\"Model name --->: {model}\")\n",
    "            predict_masked_sentence(model, sentence, top_k=top_k)\n"
   ]
  },
  {
   "cell_type": "code",
   "execution_count": 63,
   "id": "a33d5971b5c682bd",
   "metadata": {
    "ExecuteTime": {
     "end_time": "2024-11-19T21:09:47.593276Z",
     "start_time": "2024-11-19T21:09:33.570680Z"
    },
    "collapsed": false,
    "jupyter": {
     "outputs_hidden": false
    }
   },
   "outputs": [
    {
     "name": "stdout",
     "output_type": "stream",
     "text": [
      "######################################################\n",
      "Sentence:  Stolicom polski jest <mask>\n",
      "######################################################\n",
      "------------------------------------\n",
      "Model name --->: sdadas/polish-splade\n",
      "Stolicom polski jest 164\n",
      "------------------------------------\n",
      "Model name --->: BartekK/distilHerBERT-base-cased\n",
      "Stolicom polski jest :\n",
      "------------------------------------\n",
      "Model name --->: deepsense-ai/trelbert\n",
      "Stolicom polski jest wstyd\n",
      "######################################################\n",
      "Sentence:  W polsce nie produkujemy <mask>\n",
      "######################################################\n",
      "------------------------------------\n",
      "Model name --->: sdadas/polish-splade\n",
      "W polsce nie produkujemy 183\n",
      "------------------------------------\n",
      "Model name --->: BartekK/distilHerBERT-base-cased\n",
      "W polsce nie produkujemy.\n",
      "------------------------------------\n",
      "Model name --->: deepsense-ai/trelbert\n",
      "W polsce nie produkujemy.\n",
      "######################################################\n",
      "Sentence:  Polska boi sie przeciwstawić <mask>\n",
      "######################################################\n",
      "------------------------------------\n",
      "Model name --->: sdadas/polish-splade\n",
      "Polska boi sie przeciwstawić wroga\n",
      "------------------------------------\n",
      "Model name --->: BartekK/distilHerBERT-base-cased\n",
      "Polska boi sie przeciwstawić.\n",
      "------------------------------------\n",
      "Model name --->: deepsense-ai/trelbert\n",
      "Polska boi sie przeciwstawić Rosji\n",
      "######################################################\n",
      "Sentence:  Turysta odwiedził <mask> w Krakowie\n",
      "######################################################\n",
      "------------------------------------\n",
      "Model name --->: sdadas/polish-splade\n",
      "Turysta odwiedził wycieczki w Krakowie\n",
      "------------------------------------\n",
      "Model name --->: BartekK/distilHerBERT-base-cased\n",
      "Turysta odwiedził nas w Krakowie\n",
      "------------------------------------\n",
      "Model name --->: deepsense-ai/trelbert\n",
      "Turysta odwiedził mnie w Krakowie\n",
      "######################################################\n",
      "Sentence:  W polsce można podróżować <mask>\n",
      "######################################################\n",
      "------------------------------------\n",
      "Model name --->: sdadas/polish-splade\n",
      "W polsce można podróżować wycieczki\n",
      "------------------------------------\n",
      "Model name --->: BartekK/distilHerBERT-base-cased\n",
      "W polsce można podróżować.\n",
      "------------------------------------\n",
      "Model name --->: deepsense-ai/trelbert\n",
      "W polsce można podróżować @URL\n",
      "######################################################\n",
      "Sentence:  Zimowa stolica polski jest w <mask>\n",
      "######################################################\n",
      "------------------------------------\n",
      "Model name --->: sdadas/polish-splade\n",
      "Zimowa stolica polski jest w Calgary\n",
      "------------------------------------\n",
      "Model name --->: BartekK/distilHerBERT-base-cased\n",
      "Zimowa stolica polski jest w Polsce\n",
      "------------------------------------\n",
      "Model name --->: deepsense-ai/trelbert\n",
      "Zimowa stolica polski jest w Warszawie\n",
      "######################################################\n",
      "Sentence:  Gdy wołam prezydenta polski krzycze <mask>\n",
      "######################################################\n",
      "------------------------------------\n",
      "Model name --->: sdadas/polish-splade\n",
      "Gdy wołam prezydenta polski krzycze 164\n",
      "------------------------------------\n",
      "Model name --->: BartekK/distilHerBERT-base-cased\n",
      "Gdy wołam prezydenta polski krzycze :\n",
      "------------------------------------\n",
      "Model name --->: deepsense-ai/trelbert\n",
      "Gdy wołam prezydenta polski krzycze @URL\n"
     ]
    }
   ],
   "source": [
    "sentences_polish_cases = [\n",
    "    \"Stolicom polski jest <mask>\",  # mianownik \n",
    "    \"W polsce nie produkujemy <mask>\", #dopełniacz\n",
    "    \"Polska boi sie przeciwstawić <mask>\", # Celownik\n",
    "    \"Turysta odwiedził <mask> w Krakowie\" , # Biernik\n",
    "    \"W polsce można podróżować <mask>\", # Narzędnil\n",
    "    \"Zimowa stolica polski jest w <mask>\", # Miejscownik \n",
    "    \"Gdy wołam prezydenta polski krzycze <mask>\", # wołacz\n",
    "]\n",
    "predict_masked_sentences(sentences_polish_cases)"
   ]
  },
  {
   "cell_type": "markdown",
   "id": "32f00b7aab91a1d3",
   "metadata": {
    "collapsed": false,
    "jupyter": {
     "outputs_hidden": false
    }
   },
   "source": [
    "Słabo, jedyne query jakie mozna uznac za w pelni porpawne to ze polska boi sie rosji. QUery typu 'Turysta odwiedzil nas w Krakowie'. Ok w teorii mają sens, jednak nie o to chodzi i raczej jest to mało spotykane żeby mówić że turysta odwiedził nas. Jka już to jakiś znajomy nas odwiedził."
   ]
  },
  {
   "cell_type": "code",
   "execution_count": 64,
   "id": "9888732116a9d2c9",
   "metadata": {
    "ExecuteTime": {
     "end_time": "2024-11-19T21:09:47.596043Z",
     "start_time": "2024-11-19T21:09:47.594075Z"
    },
    "collapsed": false,
    "jupyter": {
     "outputs_hidden": false
    }
   },
   "outputs": [],
   "source": [
    "sentences_long_relations= [\n",
    "    \"Ania gotowała psa a Piotr wyprowadził psa i <mask> kuchnię\",\n",
    "    \"Mateusz naprawiał rower, nagle weszła Ania i <mask> na niego\",\n",
    "    \"Zbigniew i Ania to para, uwielbiają chodzić do Kina. Ania czeka aż zbiegniew ją <mask>\",\n",
    "    \n",
    "]"
   ]
  },
  {
   "cell_type": "code",
   "execution_count": 65,
   "id": "e5542193379636f5",
   "metadata": {
    "ExecuteTime": {
     "end_time": "2024-11-19T21:09:52.845133Z",
     "start_time": "2024-11-19T21:09:47.597567Z"
    },
    "collapsed": false,
    "jupyter": {
     "outputs_hidden": false
    }
   },
   "outputs": [
    {
     "name": "stdout",
     "output_type": "stream",
     "text": [
      "######################################################\n",
      "Sentence:  Ania gotowała psa a Piotr wyprowadził psa i <mask> kuchnię\n",
      "######################################################\n",
      "------------------------------------\n",
      "Model name --->: sdadas/polish-splade\n",
      "Ania gotowała psa a Piotr wyprowadził psa i kuchnia kuchnię\n",
      "------------------------------------\n",
      "Model name --->: BartekK/distilHerBERT-base-cased\n",
      "Ania gotowała psa a Piotr wyprowadził psa i otworzył kuchnię\n",
      "------------------------------------\n",
      "Model name --->: deepsense-ai/trelbert\n",
      "Ania gotowała psa a Piotr wyprowadził psa i zamknął kuchnię\n",
      "######################################################\n",
      "Sentence:  Mateusz naprawiał rower, nagle weszła Ania i <mask> na niego\n",
      "######################################################\n",
      "------------------------------------\n",
      "Model name --->: sdadas/polish-splade\n",
      "Mateusz naprawiał rower, nagle weszła Ania i atak na niego\n",
      "------------------------------------\n",
      "Model name --->: BartekK/distilHerBERT-base-cased\n",
      "Mateusz naprawiał rower, nagle weszła Ania i patrzyła na niego\n",
      "------------------------------------\n",
      "Model name --->: deepsense-ai/trelbert\n",
      "Mateusz naprawiał rower, nagle weszła Ania i patrzyła na niego\n",
      "######################################################\n",
      "Sentence:  Zbigniew i Ania to para, uwielbiają chodzić do Kina. Ania czeka aż zbiegniew ją <mask>\n",
      "######################################################\n",
      "------------------------------------\n",
      "Model name --->: sdadas/polish-splade\n",
      "Zbigniew i Ania to para, uwielbiają chodzić do Kina. Ania czeka aż zbiegniew ją ekipa\n",
      "------------------------------------\n",
      "Model name --->: BartekK/distilHerBERT-base-cased\n",
      "Zbigniew i Ania to para, uwielbiają chodzić do Kina. Ania czeka aż zbiegniew ją.\n",
      "------------------------------------\n",
      "Model name --->: deepsense-ai/trelbert\n",
      "Zbigniew i Ania to para, uwielbiają chodzić do Kina. Ania czeka aż zbiegniew ją.\n"
     ]
    }
   ],
   "source": [
    "predict_masked_sentences(sentences_long_relations)"
   ]
  },
  {
   "cell_type": "markdown",
   "id": "9f6f831f9c8c154",
   "metadata": {
    "collapsed": false,
    "jupyter": {
     "outputs_hidden": false
    }
   },
   "source": [
    "Odrobinę lepiej o ile gorzej jest z doborem sensownych słów o tyle odmiana znacznie lepiej. "
   ]
  },
  {
   "cell_type": "code",
   "execution_count": 66,
   "id": "bbf349d540cfd342",
   "metadata": {
    "ExecuteTime": {
     "end_time": "2024-11-19T21:09:52.847734Z",
     "start_time": "2024-11-19T21:09:52.845938Z"
    },
    "collapsed": false,
    "jupyter": {
     "outputs_hidden": false
    }
   },
   "outputs": [],
   "source": [
    "sentences_real_world= [\n",
    "    \"Planeta która oświetla ziemię to <mask>\",\n",
    "    \"Zaraz po jesieni następuje <mask>\",\n",
    "    \"Gdy wrzucę kartkę papieru do ogniska to kartka się <mask>\",\n",
    "    \n",
    "]"
   ]
  },
  {
   "cell_type": "code",
   "execution_count": 67,
   "id": "e013fb5b3dc0b029",
   "metadata": {
    "ExecuteTime": {
     "end_time": "2024-11-19T21:09:57.870941Z",
     "start_time": "2024-11-19T21:09:52.848702Z"
    },
    "collapsed": false,
    "jupyter": {
     "outputs_hidden": false
    }
   },
   "outputs": [
    {
     "name": "stdout",
     "output_type": "stream",
     "text": [
      "######################################################\n",
      "Sentence:  Planeta która oświetla ziemię to <mask>\n",
      "######################################################\n",
      "------------------------------------\n",
      "Model name --->: sdadas/polish-splade\n",
      "Planeta która oświetla ziemię to światło\n",
      "------------------------------------\n",
      "Model name --->: BartekK/distilHerBERT-base-cased\n",
      "Planeta która oświetla ziemię to niebo\n",
      "------------------------------------\n",
      "Model name --->: deepsense-ai/trelbert\n",
      "Planeta która oświetla ziemię to niebo\n",
      "######################################################\n",
      "Sentence:  Zaraz po jesieni następuje <mask>\n",
      "######################################################\n",
      "------------------------------------\n",
      "Model name --->: sdadas/polish-splade\n",
      "Zaraz po jesieni następuje ożywienie\n",
      "------------------------------------\n",
      "Model name --->: BartekK/distilHerBERT-base-cased\n",
      "Zaraz po jesieni następuje :\n",
      "------------------------------------\n",
      "Model name --->: deepsense-ai/trelbert\n",
      "Zaraz po jesieni następuje wiosna\n",
      "######################################################\n",
      "Sentence:  Gdy wrzucę kartkę papieru do ogniska to kartka się <mask>\n",
      "######################################################\n",
      "------------------------------------\n",
      "Model name --->: sdadas/polish-splade\n",
      "Gdy wrzucę kartkę papieru do ogniska to kartka się zerwanie\n",
      "------------------------------------\n",
      "Model name --->: BartekK/distilHerBERT-base-cased\n",
      "Gdy wrzucę kartkę papieru do ogniska to kartka się kończy\n",
      "------------------------------------\n",
      "Model name --->: deepsense-ai/trelbert\n",
      "Gdy wrzucę kartkę papieru do ogniska to kartka się kończy\n"
     ]
    }
   ],
   "source": [
    "predict_masked_sentences(sentences_real_world)"
   ]
  },
  {
   "cell_type": "markdown",
   "id": "4cc4c9a96e87936b",
   "metadata": {
    "collapsed": false,
    "jupyter": {
     "outputs_hidden": false
    }
   },
   "source": [
    "Bardzo słabo, praktycznie żaden model nie przewidział niczego sensownego. Szkoda wydawało mi się że to dośc proste i oczywsite przyklady jednak nie dały rady."
   ]
  },
  {
   "cell_type": "code",
   "execution_count": 68,
   "id": "c64c01fab839b45f",
   "metadata": {
    "ExecuteTime": {
     "end_time": "2024-11-19T21:09:57.873975Z",
     "start_time": "2024-11-19T21:09:57.871954Z"
    },
    "collapsed": false,
    "jupyter": {
     "outputs_hidden": false
    }
   },
   "outputs": [],
   "source": [
    "sentences_sentiment = [\n",
    "    \"Ta książka była okropnie nudna. Wypowiedź ta ma <mask> sentyment\",\n",
    "    \"Umieram z ciekawości co dostane na prezent. Nie moge sie doczekać. Wypowiedź ta ma <mask> sentyment\",\n",
    "    \"Za moim uśmiechem kryją się łzy. Wypowiedź ta ma <mask> sentyment\",\n",
    "    \"Szkoda że nie zamówiłem więcej, jest pyszne. Wypowiedź ta ma <mask> sentyment\",\n",
    "    \"Ciesze się, że więcej się nie spotkamy. Wypowiedź ta ma <mask> sentyment\",\n",
    "]"
   ]
  },
  {
   "cell_type": "code",
   "execution_count": 69,
   "id": "a8137a853af09e9e",
   "metadata": {
    "ExecuteTime": {
     "end_time": "2024-11-19T21:10:06.229145Z",
     "start_time": "2024-11-19T21:09:57.875039Z"
    },
    "collapsed": false,
    "jupyter": {
     "outputs_hidden": false
    }
   },
   "outputs": [
    {
     "name": "stdout",
     "output_type": "stream",
     "text": [
      "######################################################\n",
      "Sentence:  Ta książka była okropnie nudna. Wypowiedź ta ma <mask> sentyment\n",
      "######################################################\n",
      "------------------------------------\n",
      "Model name --->: sdadas/polish-splade\n",
      "Ta książka była okropnie nudna. Wypowiedź ta ma niewątpliwie sentyment\n",
      "------------------------------------\n",
      "Model name --->: BartekK/distilHerBERT-base-cased\n",
      "Ta książka była okropnie nudna. Wypowiedź ta ma ogromny sentyment\n",
      "------------------------------------\n",
      "Model name --->: deepsense-ai/trelbert\n",
      "Ta książka była okropnie nudna. Wypowiedź ta ma ogromny sentyment\n",
      "######################################################\n",
      "Sentence:  Umieram z ciekawości co dostane na prezent. Nie moge sie doczekać. Wypowiedź ta ma <mask> sentyment\n",
      "######################################################\n",
      "------------------------------------\n",
      "Model name --->: sdadas/polish-splade\n",
      "Umieram z ciekawości co dostane na prezent. Nie moge sie doczekać. Wypowiedź ta ma charakter sentyment\n",
      "------------------------------------\n",
      "Model name --->: BartekK/distilHerBERT-base-cased\n",
      "Umieram z ciekawości co dostane na prezent. Nie moge sie doczekać. Wypowiedź ta ma ogromny sentyment\n",
      "------------------------------------\n",
      "Model name --->: deepsense-ai/trelbert\n",
      "Umieram z ciekawości co dostane na prezent. Nie moge sie doczekać. Wypowiedź ta ma ogromny sentyment\n",
      "######################################################\n",
      "Sentence:  Za moim uśmiechem kryją się łzy. Wypowiedź ta ma <mask> sentyment\n",
      "######################################################\n",
      "------------------------------------\n",
      "Model name --->: sdadas/polish-splade\n",
      "Za moim uśmiechem kryją się łzy. Wypowiedź ta ma charakter sentyment\n",
      "------------------------------------\n",
      "Model name --->: BartekK/distilHerBERT-base-cased\n",
      "Za moim uśmiechem kryją się łzy. Wypowiedź ta ma głęboki sentyment\n",
      "------------------------------------\n",
      "Model name --->: deepsense-ai/trelbert\n",
      "Za moim uśmiechem kryją się łzy. Wypowiedź ta ma ogromny sentyment\n",
      "######################################################\n",
      "Sentence:  Szkoda że nie zamówiłem więcej, jest pyszne. Wypowiedź ta ma <mask> sentyment\n",
      "######################################################\n",
      "------------------------------------\n",
      "Model name --->: sdadas/polish-splade\n",
      "Szkoda że nie zamówiłem więcej, jest pyszne. Wypowiedź ta ma niewątpliwie sentyment\n",
      "------------------------------------\n",
      "Model name --->: BartekK/distilHerBERT-base-cased\n",
      "Szkoda że nie zamówiłem więcej, jest pyszne. Wypowiedź ta ma jakiś sentyment\n",
      "------------------------------------\n",
      "Model name --->: deepsense-ai/trelbert\n",
      "Szkoda że nie zamówiłem więcej, jest pyszne. Wypowiedź ta ma ogromny sentyment\n",
      "######################################################\n",
      "Sentence:  Ciesze się, że więcej się nie spotkamy. Wypowiedź ta ma <mask> sentyment\n",
      "######################################################\n",
      "------------------------------------\n",
      "Model name --->: sdadas/polish-splade\n",
      "Ciesze się, że więcej się nie spotkamy. Wypowiedź ta ma niewątpliwie sentyment\n",
      "------------------------------------\n",
      "Model name --->: BartekK/distilHerBERT-base-cased\n",
      "Ciesze się, że więcej się nie spotkamy. Wypowiedź ta ma ogromny sentyment\n",
      "------------------------------------\n",
      "Model name --->: deepsense-ai/trelbert\n",
      "Ciesze się, że więcej się nie spotkamy. Wypowiedź ta ma ogromny sentyment\n"
     ]
    }
   ],
   "source": [
    "predict_masked_sentences(sentences_sentiment)"
   ]
  },
  {
   "cell_type": "markdown",
   "id": "978325b1e0e394cd",
   "metadata": {
    "collapsed": false,
    "jupyter": {
     "outputs_hidden": false
    }
   },
   "source": [
    "Ponownie słabo. Z tym, że tutaj wydaje mi się że modele do oceny sentymentu powinny być brane z kategorii 'sentiment analysis' a nie 'fill mask'. Nie mniej doświadczenie pokazuje, że modele nie rozumieją o czym piszą."
   ]
  },
  {
   "cell_type": "markdown",
   "id": "fc8b6cc814b5d5b9",
   "metadata": {
    "collapsed": false,
    "jupyter": {
     "outputs_hidden": false
    }
   },
   "source": [
    "# Wnioski\n",
    "\n",
    "Cwiczenie uzmysłowiło mi:\n",
    "- Jak daleko i jak 'głupie' jeszcze jest AI\n",
    "- Jak łatwo można korzystać z gotowych rozwiązan z HuggingFace\n",
    "- Jak dobrą robote zrobiło OpenAI i wielkie firmy. Czapki z głów.\n",
    "\n",
    "\n",
    "Generalenie ćwiczenie raczej ciekawostka. Pobawić się modelami - ok. Uzmysłowiło wiele i pozwoliło dotknąć ciekawe technologii która jest na czasie. Pokazało, że nie ma co być zbyt optymistycznym co do LLM. Łatwo i przyjemnie się korzysta z HuggingFace, jednak te modele open-source pozostawiają wiele do życzenia. Próbowałem też z modelami nie produkowanymi przez polaków (to chyba będą po prostu modele multilingual) dawały one może minimalnie gorsze wyniki, lecz szczerze mówiac porównywalne. Fajna zabawa, jednak zasotosowanie znikome. Ciekawie jakby to połączyć z finetuningiem..."
   ]
  },
  {
   "cell_type": "code",
   "execution_count": null,
   "id": "4dd0c8b1e378521e",
   "metadata": {
    "collapsed": false,
    "jupyter": {
     "outputs_hidden": false
    }
   },
   "outputs": [],
   "source": []
  }
 ],
 "metadata": {
  "kernelspec": {
   "display_name": "Python 3 (ipykernel)",
   "language": "python",
   "name": "python3"
  },
  "language_info": {
   "codemirror_mode": {
    "name": "ipython",
    "version": 3
   },
   "file_extension": ".py",
   "mimetype": "text/x-python",
   "name": "python",
   "nbconvert_exporter": "python",
   "pygments_lexer": "ipython3",
   "version": "3.11.5"
  }
 },
 "nbformat": 4,
 "nbformat_minor": 5
}
