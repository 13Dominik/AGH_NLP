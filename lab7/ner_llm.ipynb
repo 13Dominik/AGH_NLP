{
 "cells": [
  {
   "cell_type": "code",
   "execution_count": 139,
   "id": "535537e0b430d16c",
   "metadata": {
    "ExecuteTime": {
     "end_time": "2024-12-22T16:14:49.304704Z",
     "start_time": "2024-12-22T16:14:49.298969Z"
    },
    "collapsed": false
   },
   "outputs": [],
   "source": [
    "import numpy as np\n",
    "import pandas as pd\n",
    "import re\n",
    "import random\n",
    "import requests\n",
    "from datasets import load_dataset\n",
    "import spacy"
   ]
  },
  {
   "cell_type": "code",
   "execution_count": 3,
   "id": "96e11df2db5e4362",
   "metadata": {
    "ExecuteTime": {
     "end_time": "2024-12-22T14:37:33.327219Z",
     "start_time": "2024-12-22T14:37:33.324590Z"
    },
    "collapsed": false
   },
   "outputs": [],
   "source": [
    "random.seed(2137)"
   ]
  },
  {
   "cell_type": "code",
   "execution_count": 4,
   "id": "8741627566a0aa5b",
   "metadata": {
    "ExecuteTime": {
     "end_time": "2024-12-22T14:37:37.232158Z",
     "start_time": "2024-12-22T14:37:33.925178Z"
    },
    "collapsed": false
   },
   "outputs": [
    {
     "data": {
      "text/html": [
       "<div>\n",
       "<style scoped>\n",
       "    .dataframe tbody tr th:only-of-type {\n",
       "        vertical-align: middle;\n",
       "    }\n",
       "\n",
       "    .dataframe tbody tr th {\n",
       "        vertical-align: top;\n",
       "    }\n",
       "\n",
       "    .dataframe thead th {\n",
       "        text-align: right;\n",
       "    }\n",
       "</style>\n",
       "<table border=\"1\" class=\"dataframe\">\n",
       "  <thead>\n",
       "    <tr style=\"text-align: right;\">\n",
       "      <th></th>\n",
       "      <th>_id</th>\n",
       "      <th>title</th>\n",
       "      <th>text</th>\n",
       "    </tr>\n",
       "  </thead>\n",
       "  <tbody>\n",
       "    <tr>\n",
       "      <th>0</th>\n",
       "      <td>3</td>\n",
       "      <td></td>\n",
       "      <td>Nie mówię, że nie podoba mi się też pomysł szk...</td>\n",
       "    </tr>\n",
       "    <tr>\n",
       "      <th>1</th>\n",
       "      <td>31</td>\n",
       "      <td></td>\n",
       "      <td>Tak więc nic nie zapobiega fałszywym ocenom po...</td>\n",
       "    </tr>\n",
       "  </tbody>\n",
       "</table>\n",
       "</div>"
      ],
      "text/plain": [
       "  _id title                                               text\n",
       "0   3        Nie mówię, że nie podoba mi się też pomysł szk...\n",
       "1  31        Tak więc nic nie zapobiega fałszywym ocenom po..."
      ]
     },
     "execution_count": 4,
     "metadata": {},
     "output_type": "execute_result"
    }
   ],
   "source": [
    "df_texts = pd.DataFrame.from_dict(load_dataset(\"clarin-knext/fiqa-pl\", \"corpus\")['corpus'])\n",
    "df_texts.head(2)"
   ]
  },
  {
   "cell_type": "code",
   "execution_count": 5,
   "id": "1d478c63e26fb2dc",
   "metadata": {
    "ExecuteTime": {
     "end_time": "2024-12-22T14:37:39.833085Z",
     "start_time": "2024-12-22T14:37:37.728473Z"
    },
    "collapsed": false
   },
   "outputs": [
    {
     "data": {
      "text/html": [
       "<div>\n",
       "<style scoped>\n",
       "    .dataframe tbody tr th:only-of-type {\n",
       "        vertical-align: middle;\n",
       "    }\n",
       "\n",
       "    .dataframe tbody tr th {\n",
       "        vertical-align: top;\n",
       "    }\n",
       "\n",
       "    .dataframe thead th {\n",
       "        text-align: right;\n",
       "    }\n",
       "</style>\n",
       "<table border=\"1\" class=\"dataframe\">\n",
       "  <thead>\n",
       "    <tr style=\"text-align: right;\">\n",
       "      <th></th>\n",
       "      <th>query-id</th>\n",
       "      <th>corpus-id</th>\n",
       "      <th>score</th>\n",
       "    </tr>\n",
       "  </thead>\n",
       "  <tbody>\n",
       "    <tr>\n",
       "      <th>0</th>\n",
       "      <td>8</td>\n",
       "      <td>566392</td>\n",
       "      <td>1</td>\n",
       "    </tr>\n",
       "    <tr>\n",
       "      <th>1</th>\n",
       "      <td>8</td>\n",
       "      <td>65404</td>\n",
       "      <td>1</td>\n",
       "    </tr>\n",
       "  </tbody>\n",
       "</table>\n",
       "</div>"
      ],
      "text/plain": [
       "   query-id  corpus-id  score\n",
       "0         8     566392      1\n",
       "1         8      65404      1"
      ]
     },
     "execution_count": 5,
     "metadata": {},
     "output_type": "execute_result"
    }
   ],
   "source": [
    "df_qa = pd.DataFrame(load_dataset(\"clarin-knext/fiqa-pl-qrels\")['test'])\n",
    "df_qa.head(2)"
   ]
  },
  {
   "cell_type": "code",
   "execution_count": 6,
   "id": "3bd57c1161f331c4",
   "metadata": {
    "ExecuteTime": {
     "end_time": "2024-12-22T14:37:42.060469Z",
     "start_time": "2024-12-22T14:37:40.480186Z"
    },
    "collapsed": false
   },
   "outputs": [
    {
     "data": {
      "text/html": [
       "<div>\n",
       "<style scoped>\n",
       "    .dataframe tbody tr th:only-of-type {\n",
       "        vertical-align: middle;\n",
       "    }\n",
       "\n",
       "    .dataframe tbody tr th {\n",
       "        vertical-align: top;\n",
       "    }\n",
       "\n",
       "    .dataframe thead th {\n",
       "        text-align: right;\n",
       "    }\n",
       "</style>\n",
       "<table border=\"1\" class=\"dataframe\">\n",
       "  <thead>\n",
       "    <tr style=\"text-align: right;\">\n",
       "      <th></th>\n",
       "      <th>_id</th>\n",
       "      <th>title</th>\n",
       "      <th>text</th>\n",
       "    </tr>\n",
       "  </thead>\n",
       "  <tbody>\n",
       "    <tr>\n",
       "      <th>0</th>\n",
       "      <td>0</td>\n",
       "      <td></td>\n",
       "      <td>Co jest uważane za wydatek służbowy w podróży ...</td>\n",
       "    </tr>\n",
       "    <tr>\n",
       "      <th>1</th>\n",
       "      <td>4</td>\n",
       "      <td></td>\n",
       "      <td>Wydatki służbowe - ubezpieczenie samochodu pod...</td>\n",
       "    </tr>\n",
       "  </tbody>\n",
       "</table>\n",
       "</div>"
      ],
      "text/plain": [
       "  _id title                                               text\n",
       "0   0        Co jest uważane za wydatek służbowy w podróży ...\n",
       "1   4        Wydatki służbowe - ubezpieczenie samochodu pod..."
      ]
     },
     "execution_count": 6,
     "metadata": {},
     "output_type": "execute_result"
    }
   ],
   "source": [
    "df_q = pd.DataFrame(load_dataset(\"clarin-knext/fiqa-pl\", \"queries\")['queries'])\n",
    "df_q.head(2)"
   ]
  },
  {
   "cell_type": "code",
   "execution_count": 7,
   "id": "56d7a09568525ae4",
   "metadata": {
    "ExecuteTime": {
     "end_time": "2024-12-22T14:37:42.067331Z",
     "start_time": "2024-12-22T14:37:42.061476Z"
    },
    "collapsed": false
   },
   "outputs": [
    {
     "name": "stdout",
     "output_type": "stream",
     "text": [
      "<class 'pandas.core.frame.DataFrame'>\n",
      "Index: 1000 entries, 47960 to 23135\n",
      "Data columns (total 3 columns):\n",
      " #   Column  Non-Null Count  Dtype \n",
      "---  ------  --------------  ----- \n",
      " 0   _id     1000 non-null   object\n",
      " 1   title   1000 non-null   object\n",
      " 2   text    1000 non-null   object\n",
      "dtypes: object(3)\n",
      "memory usage: 31.2+ KB\n"
     ]
    }
   ],
   "source": [
    "# 1000 random passages:\n",
    "df_1000_passages = df_texts.sample(n=1000, random_state=2137)\n",
    "df_1000_passages.info(2)"
   ]
  },
  {
   "cell_type": "markdown",
   "id": "2c5fa6130b04bfdc",
   "metadata": {
    "collapsed": false
   },
   "source": [
    "# Setting up Ollama after isntalling it locally:"
   ]
  },
  {
   "cell_type": "code",
   "execution_count": 8,
   "id": "e6f0974754ad9dfd",
   "metadata": {
    "ExecuteTime": {
     "end_time": "2024-12-22T14:37:43.510817Z",
     "start_time": "2024-12-22T14:37:43.319437Z"
    },
    "collapsed": false
   },
   "outputs": [
    {
     "name": "stdout",
     "output_type": "stream",
     "text": [
      "NAME               ID              SIZE      MODIFIED   \r\n",
      "llama3.2:latest    a80c4f17acd5    2.0 GB    4 days ago    \r\n"
     ]
    }
   ],
   "source": [
    "!ollama list"
   ]
  },
  {
   "cell_type": "code",
   "execution_count": 9,
   "id": "1a2b89abea03ece9",
   "metadata": {
    "ExecuteTime": {
     "end_time": "2024-12-22T14:37:44.168177Z",
     "start_time": "2024-12-22T14:37:44.029243Z"
    },
    "collapsed": false
   },
   "outputs": [
    {
     "name": "stdout",
     "output_type": "stream",
     "text": [
      "Error: listen tcp 127.0.0.1:11434: bind: address already in use\r\n"
     ]
    }
   ],
   "source": [
    "!ollama serve"
   ]
  },
  {
   "cell_type": "code",
   "execution_count": 10,
   "id": "427a59a1409e62a8",
   "metadata": {
    "ExecuteTime": {
     "end_time": "2024-12-22T14:37:47.002030Z",
     "start_time": "2024-12-22T14:37:44.608360Z"
    },
    "collapsed": false
   },
   "outputs": [
    {
     "name": "stdout",
     "output_type": "stream",
     "text": [
      "Tak, mówię po polsku. Co mogę dla Ciebie zrobić? Chcesz pomóc mi z językiem lub mieć konwersację?\n"
     ]
    }
   ],
   "source": [
    "def query_llama(prompt, model=\"llama3.2\"):\n",
    "    url = \"http://localhost:11434/api/chat\"\n",
    "    headers = {\"Content-Type\": \"application/json\"}\n",
    "    payload = {\n",
    "        \"model\": model,\n",
    "        \"messages\": [{\"role\": \"user\", \"content\": prompt}]\n",
    "    }\n",
    "    response = requests.post(url, json=payload, headers=headers, stream=True)\n",
    "    \n",
    "    if response.status_code != 200:\n",
    "        print(f\"Błąd {response.status_code}: {response.text}\")\n",
    "        return None\n",
    "\n",
    "    full_response = \"\"\n",
    "    for line in response.iter_lines():\n",
    "        if line:\n",
    "            try:\n",
    "                json_line = line.decode('utf-8')\n",
    "                data = requests.models.complexjson.loads(json_line)\n",
    "                full_response += data.get(\"message\", {}).get(\"content\", \"\")\n",
    "            except ValueError:\n",
    "                print(f\"Niepoprawny JSON: {line}\")\n",
    "    \n",
    "    return full_response\n",
    "\n",
    "prompt = \"Mówisz po polsku?\"\n",
    "result = query_llama(prompt)\n",
    "print(result)"
   ]
  },
  {
   "cell_type": "markdown",
   "id": "d2a342cf9ccf8a5b",
   "metadata": {
    "collapsed": false
   },
   "source": [
    "# Test spacy:"
   ]
  },
  {
   "cell_type": "code",
   "execution_count": 11,
   "id": "1333c02ca2a8699c",
   "metadata": {
    "ExecuteTime": {
     "end_time": "2024-12-22T14:37:47.406476Z",
     "start_time": "2024-12-22T14:37:47.025441Z"
    },
    "collapsed": false
   },
   "outputs": [],
   "source": [
    "nlp = spacy.load(\"pl_core_news_sm\")"
   ]
  },
  {
   "cell_type": "code",
   "execution_count": 12,
   "id": "e4e26119f36bb5ee",
   "metadata": {
    "ExecuteTime": {
     "end_time": "2024-12-22T14:37:47.409277Z",
     "start_time": "2024-12-22T14:37:47.407233Z"
    },
    "collapsed": false
   },
   "outputs": [
    {
     "name": "stdout",
     "output_type": "stream",
     "text": [
      "('date', 'geogName', 'orgName', 'persName', 'placeName', 'time')\n"
     ]
    }
   ],
   "source": [
    "print(nlp.get_pipe(\"ner\").labels)"
   ]
  },
  {
   "cell_type": "markdown",
   "id": "c4ac44c4556c5dbf",
   "metadata": {
    "collapsed": false
   },
   "source": [
    "O klasyfikacje do tych samych kategorii będę prosił LLamę, oczywicie w celu porównania wyników."
   ]
  },
  {
   "cell_type": "code",
   "execution_count": 13,
   "id": "81e16737c3e5bb0c",
   "metadata": {
    "ExecuteTime": {
     "end_time": "2024-12-22T14:37:50.077737Z",
     "start_time": "2024-12-22T14:37:50.075732Z"
    },
    "collapsed": false
   },
   "outputs": [],
   "source": [
    "# test NER spacy:"
   ]
  },
  {
   "cell_type": "code",
   "execution_count": 14,
   "id": "a1b241b9de396ba0",
   "metadata": {
    "ExecuteTime": {
     "end_time": "2024-12-22T14:37:50.566164Z",
     "start_time": "2024-12-22T14:37:50.563079Z"
    },
    "collapsed": false
   },
   "outputs": [],
   "source": [
    "def lemmatize_text(text):\n",
    "    doc = nlp(text)\n",
    "    lematized_words = [token.lemma_ for token in doc]\n",
    "    return \" \".join(lematized_words)"
   ]
  },
  {
   "cell_type": "code",
   "execution_count": 15,
   "id": "b0e505d4bc48c9cf",
   "metadata": {
    "ExecuteTime": {
     "end_time": "2024-12-22T14:38:02.417411Z",
     "start_time": "2024-12-22T14:37:51.151384Z"
    },
    "collapsed": false
   },
   "outputs": [],
   "source": [
    "df_1000_passages['text_lemmat'] = df_1000_passages['text'].apply(lemmatize_text)"
   ]
  },
  {
   "cell_type": "code",
   "execution_count": 16,
   "id": "e62922be8f404b16",
   "metadata": {
    "ExecuteTime": {
     "end_time": "2024-12-22T14:38:13.255549Z",
     "start_time": "2024-12-22T14:38:02.418594Z"
    },
    "collapsed": false
   },
   "outputs": [],
   "source": [
    "def identify_entities(document):\n",
    "    doc = nlp(document)\n",
    "    entities_labels = [(ent.text, ent.label_) for ent in doc.ents]\n",
    "    return entities_labels\n",
    "df_1000_passages['expressions_spacy'] = df_1000_passages['text_lemmat'].apply(identify_entities)"
   ]
  },
  {
   "cell_type": "code",
   "execution_count": 21,
   "id": "25934f132503b9e4",
   "metadata": {
    "ExecuteTime": {
     "end_time": "2024-12-22T14:38:49.894827Z",
     "start_time": "2024-12-22T14:38:49.889112Z"
    },
    "collapsed": false
   },
   "outputs": [
    {
     "data": {
      "text/plain": [
       "19231                                                   []\n",
       "16355                                                   []\n",
       "3985                                     [(Y ., persName)]\n",
       "24905    [(GBP, orgName), (2010 rok, date), (1265, date...\n",
       "15322                                [(Kleenex, persName)]\n",
       "45428    [(Cincinnati, placeName), (OH Pros, orgName), ...\n",
       "41069             [(Guys, placeName), (Culver, placeName)]\n",
       "34881    [(The Weinstein Company, orgName), (Hollywood,...\n",
       "Name: expressions_spacy, dtype: object"
      ]
     },
     "execution_count": 21,
     "metadata": {},
     "output_type": "execute_result"
    }
   ],
   "source": [
    "df_1000_passages['expressions_spacy'].iloc[12:20]"
   ]
  },
  {
   "cell_type": "markdown",
   "id": "9940b58d2e4ac94f",
   "metadata": {
    "collapsed": false
   },
   "source": [
    "## Zero-Shot comparison"
   ]
  },
  {
   "cell_type": "code",
   "execution_count": 22,
   "id": "1ef60e5c509ff807",
   "metadata": {
    "ExecuteTime": {
     "end_time": "2024-12-22T14:38:52.681014Z",
     "start_time": "2024-12-22T14:38:52.678675Z"
    },
    "collapsed": false
   },
   "outputs": [],
   "source": [
    "def identify_entities_one_shot(text):\n",
    "    query = f\"\"\"\n",
    "    W tekście poniżej wyszukaj Nazwanych Encji. Zaklasyfikuj je do jednej z 6 kategorii:\n",
    "    'date' - data \n",
    "    'geogName' - Miejsce georaficzne\n",
    "    'orgName' - Nazwa firmy\n",
    "    'persName' - Nazwa personalna\n",
    "    'placeName' - Nazwa miejsca\n",
    "    'time' - czas\n",
    "    Przeanalizuj ten tekst:{text}\n",
    "    Zwróć jedynie listę krotek w postaci: [(encja1, kategoria1), (encja2, kategoria2) ...]\n",
    "    Analizuj TYLKO I WYŁACZNIE POWYZSZY TEKST i ZWRÓC TYLKO LISTE WYNIKOWA\n",
    "    \"\"\"\n",
    "    return query_llama(query)"
   ]
  },
  {
   "cell_type": "code",
   "execution_count": 23,
   "id": "8e821a46903e5aa3",
   "metadata": {
    "ExecuteTime": {
     "end_time": "2024-12-22T14:38:53.203419Z",
     "start_time": "2024-12-22T14:38:53.200107Z"
    },
    "collapsed": false
   },
   "outputs": [],
   "source": [
    "def compare_llama_spacy(query_idx):\n",
    "    print(\"TEKST:\")\n",
    "    print(df_1000_passages['text_lemmat'].iloc[query_idx])\n",
    "    print(\"LLama:\")\n",
    "    print(identify_entities_one_shot(df_1000_passages['text_lemmat'].iloc[query_idx]))\n",
    "    print(\"Spacy:\")\n",
    "    print(df_1000_passages['expressions_spacy'].iloc[query_idx])"
   ]
  },
  {
   "cell_type": "code",
   "execution_count": 24,
   "id": "15767328ab437edf",
   "metadata": {
    "ExecuteTime": {
     "end_time": "2024-12-22T14:38:58.601337Z",
     "start_time": "2024-12-22T14:38:53.640696Z"
    },
    "collapsed": false
   },
   "outputs": [
    {
     "name": "stdout",
     "output_type": "stream",
     "text": [
      "TEKST:\n",
      "„ to dobry tl;dr , jaki móc być stworzyć , [ oryginalny](http://mobile.reuters.c / article / amp / idUSKBN1AD0DU ) zmniejszć o 83 % . ( być bot ) * * * * * > WASZYNGTON / LONDYN WASZYNGTON / LONDYN – eksport węgiel z USA wzrosnąć w ten rok o ponad 60 procent z powód rosnąć popyt w Europa i Azja , według przegląd dane rządowy Reuter , co pozwolić administracja prezydent Donald Trump na stwierdzić , że wysiłek aby ożywić zniszczona przemysł . > „ jeśli Europa chcieć pouczać Trump o klimat , państwo członkowski UE potrzebować plan przejściowy , aby stopniowo wycofywać się z zanieczyszczający węgiel ” – powiedzieć Laurence Watson , analityk dane pracować nad węgiel w niezależny think tanek Carbon Tracker . inicjatywa w Londyn > ZACIĄGNIĘCIE KREDYTÓW zarówno przemysł węglowy , jak i administracja Trumpa stwierdzić , że rosnący eksport zarówno węgiel energetyczny , używać do wytwarzać energia elektryczny , jak i węgiel metalurgiczny , używać w przemyśł ciężki , być dowód na to , że program Trumpa mieć racja byt . pozytywny wpływ . * * * * * [ * * podsumowanie rozszerzone**](http : //np.reddit.com / r / autotldr / comments/6q2vq7/us_coal_exports_soar_in_boost_to_trump_energy/ ) | [ FAQ](http://np.reddit.com / r / autotldr / comments/31b9fm / faq_autotldr_bot/ \" \" wersja 1 . 65 , ~177666 tl;drs do ten pora . \" \" ) | [ Opinie](http://np.reddit.co / message / composy ? to=%23autotldr \" \" PM i komentarz być monitorować , konstruktywny opinia być mile widzieć . \" \" ) | * Najlepsze * * Słowo kluczowy * : * * Węgiel**^#1 * * Stany Zjednoczone**^#2 * * Trump**^#3 * * Administracja**^#4 * * Energia**^#5 \"\n",
      "LLama:\n",
      "[(Węgiel, 'orgName'), (USA, 'geogName'), (Europa, 'placeName'), (Azja, 'placeName'), (Donald Trump, 'persName'), (Reuter, 'orgName'), (Londyn, 'geogName'), (Carbon Tracker, 'orgName')]\n",
      "Spacy:\n",
      "[('WASZYNGTON', 'orgName'), ('LONDYN', 'orgName'), ('USA', 'placeName'), ('Europa', 'geogName'), ('Azja', 'geogName'), ('Reuter', 'orgName'), ('Donald Trump', 'persName'), ('Europa', 'orgName'), ('Trump', 'persName'), ('członkowski', 'placeName'), ('UE', 'orgName'), ('Laurence Watson', 'persName'), ('Carbon Tracker', 'persName'), ('Londyn', 'placeName'), ('Trumpa', 'persName'), ('Trumpa', 'persName'), ('//np.reddit.com', 'placeName')]\n"
     ]
    }
   ],
   "source": [
    "compare_llama_spacy(123)"
   ]
  },
  {
   "cell_type": "markdown",
   "id": "42e37de59ff2616",
   "metadata": {
    "collapsed": false
   },
   "source": [
    "Spacy znacznie wiecej znalezionych encji. Oba dobrze poradziły sobie z kategoria persName. Generalnie spacy lepiej\n"
   ]
  },
  {
   "cell_type": "code",
   "execution_count": 26,
   "id": "43330245739527c9",
   "metadata": {
    "ExecuteTime": {
     "end_time": "2024-12-22T14:40:45.095543Z",
     "start_time": "2024-12-22T14:40:42.055727Z"
    },
    "collapsed": false
   },
   "outputs": [
    {
     "name": "stdout",
     "output_type": "stream",
     "text": [
      "TEKST:\n",
      "w kontekst ten artykuł to milion dolar . ale mieć racja , wszystek ubezpieczenie na życie ten oszustwo , nawet jeśli nie zawsze być to milion dolar . mój żona nie ucierpieć finansowo , jeśli umrę . być silny , niezależny kobieta . mieć dobry kariera .\n",
      "LLama:\n",
      "Wynik:\n",
      "[(orgName, 'date'), (persName, 'date'), (geogName, 'date')]\n",
      "Spacy:\n",
      "[]\n"
     ]
    }
   ],
   "source": [
    "compare_llama_spacy(13)"
   ]
  },
  {
   "cell_type": "markdown",
   "id": "7f2d5c3c1401afc4",
   "metadata": {
    "collapsed": false
   },
   "source": [
    "Llama cos znalazla, blednie, spacy nic i poprawnie. Spacy lepiej"
   ]
  },
  {
   "cell_type": "code",
   "execution_count": 27,
   "id": "ddecfdc1b6b6780f",
   "metadata": {
    "ExecuteTime": {
     "end_time": "2024-12-22T14:40:47.109895Z",
     "start_time": "2024-12-22T14:40:45.894545Z"
    },
    "collapsed": false
   },
   "outputs": [
    {
     "name": "stdout",
     "output_type": "stream",
     "text": [
      "TEKST:\n",
      "Zacznij od wkładać pieniądz w złoty moneta kruszcowy : jeśli być początkujący , upewnić się , że zaczynać od wkładać pieniądz w złoty moneta kruszcowy . być bardzo prosty w obsługa , w to wiązać się z bardzo minimalny ryzykie . po zakup złoto kruszcowy lub złoty moneta otrzymać to sam od dowolny firma kurierski .\n",
      "LLama:\n",
      "[(persName, 'date'), \n",
      " ('geogName', 'placeName')].\n",
      "Spacy:\n",
      "[('ryzykie', 'placeName')]\n"
     ]
    }
   ],
   "source": [
    "compare_llama_spacy(66)"
   ]
  },
  {
   "cell_type": "markdown",
   "id": "fd5647262c29943a",
   "metadata": {
    "collapsed": false
   },
   "source": [
    "Llama halucynuje, spacy cos znalazlo niestety zle, oba blednie."
   ]
  },
  {
   "cell_type": "code",
   "execution_count": 28,
   "id": "909477eca28916a1",
   "metadata": {
    "ExecuteTime": {
     "end_time": "2024-12-22T14:41:20.834769Z",
     "start_time": "2024-12-22T14:41:17.249236Z"
    },
    "collapsed": false
   },
   "outputs": [
    {
     "name": "stdout",
     "output_type": "stream",
     "text": [
      "TEKST:\n",
      "jeśli nie mieć osoba na utrzymanie , nie mieć potrzeba ubezpieczenie na życie . wspominać o wykupiyć ubezpieczenie , gdy nie być on potrzebny , aby uchronić ty przed jakiś przyszły ryzyko . jeśli mieć polisę i pojawić się choroba , który normalnie uniemożliwiać by ubezpieczenie , móc zachować ubezpieczenie do koniec okres . koszt być by bardzo wysoki . musiałbyś mieć termin , który trwać by dziesięciolecie , aby objąć ty , dopóki jakiś przyszły dziecko nie opuścić college'u . jeśli nigdy nie mieć ktoś , kto zależeć od Ciebie , jeśli chodzić o dochód , nigdy nie mieć potrzeba ubezpieczenie na życie .\n",
      "LLama:\n",
      "[(Nazwa Encji 1, 'persName'), (Nazwa Encji 2, 'time')]\n",
      "\n",
      "Te dwa Nazwy Encji to: Janusz Korczak\n",
      "Spacy:\n",
      "[('musiałbyś', 'persName')]\n"
     ]
    }
   ],
   "source": [
    "compare_llama_spacy(132)"
   ]
  },
  {
   "cell_type": "markdown",
   "id": "9d08a74e4e71ebf4",
   "metadata": {
    "collapsed": false
   },
   "source": [
    "Oba zle, LLama halucynuje"
   ]
  },
  {
   "cell_type": "code",
   "execution_count": 29,
   "id": "16c18671f6142b91",
   "metadata": {
    "ExecuteTime": {
     "end_time": "2024-12-22T14:41:28.210900Z",
     "start_time": "2024-12-22T14:41:26.109541Z"
    },
    "collapsed": false
   },
   "outputs": [
    {
     "name": "stdout",
     "output_type": "stream",
     "text": [
      "TEKST:\n",
      "nie zgadzać się . w początkowy faz II wojna światowy mieć być znacznie mniej dług niż teraz . nie mieć wątpliwość , że gdyby być mieć duży dług , to uwzględnić by to nasz wkład w wysiłek wojenny , tak jak nasz obecny poziom zadłużenie być uwzględnić w nasz udział w koszyk gówniany beczka proch , który być na Bliski Wschód . teraz . to mój punkt ! nie móc stworzyć nieskończonych pieniądz , więc jeśli już stworzyć być gówniany tona pieniądz , wpłynie to na twój decyzja o stworzyć kolejny gówniany tona pieniądz ! nie wiedzieć , czy to słomiać człowiek , czy nie , ale oba uważać , że rząd móc więcej . jeśli nie zgadzać się z ja , że istnieć ograniczenie co do to , ile rząd móc wydać , to szczerze mówić , być po prosty z strata . chcieć wiedzieć , konkretnie i precyzyjnie , jaki być limit w czas rzeczywisty , aby być móc odpowiednio dostosować nasz reakcja polityczny\n",
      "LLama:\n",
      "[(Wojna Światowa II, 'date'), (Bliski Wschód, 'geogName')].\n",
      "Spacy:\n",
      "[('Bliski Wschód', 'geogName')]\n"
     ]
    }
   ],
   "source": [
    "compare_llama_spacy(997)"
   ]
  },
  {
   "cell_type": "markdown",
   "id": "2b9521a6328cbd4f",
   "metadata": {
    "collapsed": false
   },
   "source": [
    "rejon znaleziony poprawnie, LLama co ciekawe dodatkowo znalazla info o wojnie i przypisala mu czas. Mozna powiedziec ze jest ok\n"
   ]
  },
  {
   "cell_type": "code",
   "execution_count": 30,
   "id": "2e1da69da4ad2f21",
   "metadata": {
    "ExecuteTime": {
     "end_time": "2024-12-22T14:42:13.057664Z",
     "start_time": "2024-12-22T14:42:06.971903Z"
    },
    "collapsed": false
   },
   "outputs": [
    {
     "name": "stdout",
     "output_type": "stream",
     "text": [
      "TEKST:\n",
      "zapotrzebowanie na kariera STEM w 2020 rok wzrosnąć w stosunek do dzisiejszy potrzeba o około 50 % ( departament , 2015 ) . na obszar otaczający szkoła istnieć wiele firma , firma i stowarzyszenie , który w swój codzienny proces mieć aspekt STEM nauka Technologi inżynieria Matematyk . jeszcze przed inicjatywa STEM wiele szkoła podjąć własny wysiłek na rzecz poprawa edukacja w ten dziedzina . edukacja STEM być ważny w konkurencyjny gospodarka światowy , a Stany Zjednoczone pozostawać w tyle w kształceć młodzież . Odwiedź strona http://www.techjoyntfranchise.com/ , aby znaleźć edukacja wyznaczć przez STEM w Stany Zjednoczone .\n",
      "LLama:\n",
      "[(Stem, 'orgName'), (szkoła, 'geogName'), (firma, 'geogName'), (stowarzyszenie, 'geogName')]\n",
      "\n",
      "w tym:\n",
      "- 'orgName' to nazwa firmy,\n",
      "- 'geogName' to miejsce georaficzne,\n",
      "- 'persName' nie ma występu w tekście,\n",
      "- 'placeName' nie ma występu w tekście,\n",
      "- 'date' nie ma występu w tekście,\n",
      "- 'time' nie ma występu w tekście.\n",
      "Spacy:\n",
      "[('STEM', 'orgName'), ('2020 rok', 'date'), ('STEM', 'orgName'), ('Technologi', 'persName'), ('Matematyk', 'geogName'), ('STEM', 'orgName'), ('STEM', 'orgName'), ('Stany Zjednoczone', 'placeName'), ('STEM', 'orgName'), ('Stany Zjednoczone', 'placeName')]\n"
     ]
    }
   ],
   "source": [
    "compare_llama_spacy(112)"
   ]
  },
  {
   "cell_type": "markdown",
   "id": "cda670902b60b150",
   "metadata": {
    "collapsed": false
   },
   "source": [
    "LLama halucynuje. Nie trzyma sie standardu outputu. Ciezko nad nia zapanowac. Spacy niby lepiej kilka poprawnych wyszukan, jednak niektore tez niepoprawne"
   ]
  },
  {
   "cell_type": "markdown",
   "id": "9a64e4edc57723cc",
   "metadata": {
    "collapsed": false
   },
   "source": [
    "# Wniosek co do Zero-Shot:\n",
    "Coś znajduje, coś halucynuje, coś jest niepoprawne. Generalnie LLM średnio póki co. Przy zero-shot (LLama 3.2 mam na myśli) wolałbym jednak Ner ze spacy. Spacy szybsze i trafniejsze poki co."
   ]
  },
  {
   "cell_type": "markdown",
   "id": "73601504db12586d",
   "metadata": {
    "collapsed": false
   },
   "source": [
    "# Few-shot prompting"
   ]
  },
  {
   "cell_type": "code",
   "execution_count": 31,
   "id": "a7bbd3bc3cc9caa3",
   "metadata": {
    "ExecuteTime": {
     "end_time": "2024-12-22T14:43:26.390284Z",
     "start_time": "2024-12-22T14:43:26.384128Z"
    },
    "collapsed": false
   },
   "outputs": [],
   "source": [
    "def identify_entities_few_shot(text):\n",
    "    query = f\"\"\"\n",
    "    W tekście wyszukaj Nazwanych Encji. Zaklasyfikuj je do jednej z 6 kategorii:\n",
    "    'date' - data \n",
    "    'geogName' - Miejsce georaficzne\n",
    "    'orgName' - Nazwa firmy\n",
    "    'persName' - Nazwa personalna\n",
    "    'placeName' - Nazwa miejsca\n",
    "    'time' - czas\n",
    "    \n",
    "    Przykład 1:\n",
    "    Text: Lech Wałęsa był prezydentem Polski a teraz już nie jest teraz nim jest Andrzej Duda.\"\n",
    "    Output: [(\"Lech Wałęsa\", \"persName\"), (\"Polska\", \"geogName\"), (\"Andrzej Duda\", \"persName\")]\n",
    "\n",
    "    \n",
    "    Przykład 2:\n",
    "    Text: \"Byłem ostatnio w Stanach Zjednoczonych. Po powrocie poważnie rozważam zainwestowanie w akcje Apple. Myśle że w 2025 roku wystrzęlą do góry.\"\n",
    "    Output: [(\"Stany Zjednoczone\", \"geogName\"), (\"Apple\", \"orgName\"), (\"2025\", \"date\")]\n",
    "    \n",
    "    Przykład 3:\n",
    "    Text: \"Mikołaj Kopernik był astronomem i matematykiem, który urodził się w Toruniu.\"\n",
    "    Output: [(\"Mikołaj Kopernik\", \"persName\"), (\"Toruń\", \"placeName\")]\n",
    "    \n",
    "    teraz przetwórz tekst:\n",
    "    \n",
    "    Text: {text}\n",
    "    Output: \n",
    "    \"\"\"\n",
    "    return query_llama(query)"
   ]
  },
  {
   "cell_type": "code",
   "execution_count": 32,
   "id": "aa82220b2be67530",
   "metadata": {
    "ExecuteTime": {
     "end_time": "2024-12-22T14:43:26.957196Z",
     "start_time": "2024-12-22T14:43:26.953984Z"
    },
    "collapsed": false
   },
   "outputs": [],
   "source": [
    "def compare_llama_spacy_few(query_idx):\n",
    "    print(\"TEKST:\")\n",
    "    print(df_1000_passages['text_lemmat'].iloc[query_idx])\n",
    "    print(\"LLama (few-shot):\")\n",
    "    print(identify_entities_few_shot(df_1000_passages['text_lemmat'].iloc[query_idx]))\n",
    "    print(\"Spacy:\")\n",
    "    print(df_1000_passages['expressions_spacy'].iloc[query_idx])"
   ]
  },
  {
   "cell_type": "code",
   "execution_count": 33,
   "id": "d880e0896f3bd0dc",
   "metadata": {
    "ExecuteTime": {
     "end_time": "2024-12-22T14:43:33.278260Z",
     "start_time": "2024-12-22T14:43:27.424839Z"
    },
    "collapsed": false
   },
   "outputs": [
    {
     "name": "stdout",
     "output_type": "stream",
     "text": [
      "TEKST:\n",
      "to właściciel zarządzać rezerwacja . mieć tylko skrawek papier z bazgroł . plan dezercja być trudny , kiedy być być na studia . Wyjście na ładniejszy kolacja być duży okazja . dzisiaj nie być by aż tak wielki problem , żeby po prosty wpłacić kaucja .\n",
      "LLama (few-shot):\n",
      "Oto wyniki wyszukiwania Nazwanych Encji w tekstie:\n",
      "\n",
      "1. \"Właściciel\" - \"persName\"\n",
      "2. \"Toruń\" - \"geogName\"\n",
      "\n",
      "Tekst po przetworzeniu może być następujący:\n",
      " \n",
      "    \"Właściciel zarządzać rezerwacja mieć tylko skrawek papier z bazgroł plan dezercja być trudny kiedy być na studia wyjście na ładniejszy kolacja będzie duży okazja dzisiaj nie będzie by aż tak wielki problem żeby po prosty wpłacić kaucja\"\n",
      "Spacy:\n",
      "[]\n"
     ]
    }
   ],
   "source": [
    "compare_llama_spacy_few(12)"
   ]
  },
  {
   "cell_type": "markdown",
   "id": "af146ef5543ac089",
   "metadata": {
    "collapsed": false
   },
   "source": [
    "Spacy nic (dobrze), Llama blednie, halucynuje"
   ]
  },
  {
   "cell_type": "code",
   "execution_count": 34,
   "id": "2fd83d2321f1914f",
   "metadata": {
    "ExecuteTime": {
     "end_time": "2024-12-22T14:43:49.035999Z",
     "start_time": "2024-12-22T14:43:44.929096Z"
    },
    "collapsed": false
   },
   "outputs": [
    {
     "name": "stdout",
     "output_type": "stream",
     "text": [
      "TEKST:\n",
      "„ standardowy darowizna polityczny dla kandydat federalny być ograniczyć do 2700 dolar_amerykański na kandydat na wybory . wybory prawybora i wybory powszechny być w ten cel różny wybory . Źródło : http://www.fec.gov/pages/brochures/citizens.shtml nie mieć podatek implikacja dla wkład w kampania . nawet jeśli wnosić wkład w kampania ktoś , kto wręczać być prezent teraz lub w przeszłość , to się liczyć . Wnosisz wkład w kampania , a nie osoba . taki pieniądz musieć być przeznaczyć na kampania Kandydat móc by zostać oskarżony ( o coś taki jak defraudacja ) za wykorzystać fundusz na coś inny . przykładowy źródło : http://www.rothcpa.com/archives/006985.php sam kongres nakazać IRS odstąpić od bezpośredni datk polityczny przez wprowadzić w życie to , co być obecnie sekcja 2501(c)(4 ) kodeks w 1975 rok . , który zakazywać naliczać podatek od darowizn dla „ „ organizacja polityczny ” ” określić w sekcja 527 jako „ ... partia , komitet , stowarzyszenie , fundusz lub inny organizacja ( niezależnie od to , czy ateda ) organizować i obsługiwać głównie w cel bezpośredni lub pośredniy przyjmować składka lub dokonywać wydatek , lub oba , w ramy funkcja zwolnioć z podatek . \" \" nie mieć możliwość przekazać darowizna na kampania kandydat w sposób umożliwiać odliczenie od podatek . Jedynymi pieniądz , który można odliczyć od podatek w polityka , być pieniądz przekazać na cel charytatywny , który organizacja charytatywny wykorzystywać następnie do finansować własny działanie związać z kampania , taki jak reklama lub głosowanie . taki wydatek móc zastąpić niektóry wydatek kandydat , ale nie można on wydać na kampania kandydat . w rzeczywistość taki wydatek nie móc być w ogół skoordynować z kampania . przykładowy źródło : http://blogs.hrblock.com/2013/03/04/how-to-capture-political-contributions-on-your-tax-return/ jeśli wypisać być czek na kandydat na prezydent lub nawet lokalny kandydat na burmistrz , nie mieć szczęście , jeśli chodzić o dedukcja . składka przekazywać bezpośrednio na kampać i impreza nie podlegać odliczeć . zwróć uwaga , że poświęcać dużo czas na wyjaśnianie , w jaki sposób można odliczyć datka na niezależny organizacja charytatywny , który akurat prowadzić kampania ” .\n",
      "LLama (few-shot):\n",
      "Wystarczy podać jedną nazwę Encji, która jest w tekście. Oto wynik:\n",
      "\n",
      "(\"Sekcja 2501(c)(4) kodeks z 1975 roku\", \"orgName\")\n",
      "Spacy:\n",
      "[('1975 rok', 'date'), ('ateda', 'orgName')]\n"
     ]
    }
   ],
   "source": [
    "compare_llama_spacy_few(23)"
   ]
  },
  {
   "cell_type": "markdown",
   "id": "5dee4595d102d09c",
   "metadata": {
    "collapsed": false
   },
   "source": [
    "Spac jedno poprawnie, jedno zle. LLama jedno i to blednie"
   ]
  },
  {
   "cell_type": "code",
   "execution_count": 35,
   "id": "f5662cb445a04272",
   "metadata": {
    "ExecuteTime": {
     "end_time": "2024-12-22T14:44:30.893643Z",
     "start_time": "2024-12-22T14:44:15.260943Z"
    },
    "collapsed": false
   },
   "outputs": [
    {
     "name": "stdout",
     "output_type": "stream",
     "text": [
      "TEKST:\n",
      "istnieć fundusz Indeksu społeczny iShares Jantzi .\n",
      "LLama (few-shot):\n",
      "Aby wyszukać Nazwy Encji w tekście, będę używał następującego skryptu Pythona:\n",
      "\n",
      "```python\n",
      "import re\n",
      "\n",
      "def wyszukajNazwyEncji(text):\n",
      "    nazwyEncji = []\n",
      "    \n",
      "    # Reguły wyszukiwania\n",
      "    reguły = [\n",
      "        r\"(\\w+)\\s+([a-z\\s]+)\",  # Nazwa personalna\n",
      "        r\"([a-z\\s]+)\\s+jantzi\",  # Nazwa funduszu iShares Jantzi\n",
      "        r\"(indeks społeczny|spółka iShares jantzi)\"  # Nazwa funduszu Indeksu społeczny iShares Jantzi\n",
      "    ]\n",
      "    \n",
      "    for reguła in reguły:\n",
      "        match = re.search(reguła, text)\n",
      "        \n",
      "        if match:\n",
      "            nazwaEncji = match.group(1) or match.group(2)\n",
      "            kat = None\n",
      "            \n",
      "            # Kategoria na podstawie treści nazwy Encji\n",
      "            if re.match(r\"([a-zA-Z]+)\\s+([a-zA-Z\\s]+)\", nazwaEncji):\n",
      "                kat = 'geogName'\n",
      "            elif re.match(r\"(\\w+)\\s+\\S+\", nazwaEncji):\n",
      "                kat = 'persName'\n",
      "            else:\n",
      "                kat = 'orgName'\n",
      "                \n",
      "            # Dodanie wykorzystanej kategorii do listy\n",
      "            if kat is not None:\n",
      "                nazwyEncji.append((nazwaEncji, kat))\n",
      "    \n",
      "    return nazwyEncji\n",
      "\n",
      "text = \"istnieć fundusz Indeksu społeczny iShares Jantzi .\"\n",
      "print(wyszukajNazwyEncji(text))\n",
      "```\n",
      "\n",
      "Po uruchomieniu skryptu Pythona powinno wyświetlić następujące wyniki:\n",
      "\n",
      "```python\n",
      "[('Indeksu', 'orgName'), ('Jantzi', 'geogName')]\n",
      "```\n",
      "\n",
      "Wymiana: 'Jantzi' na 'iShares Jantzi' powoduje dopuszczenie do wyszukiwania nazwy funduszu Indeksu społeczny iShares Jantzi, zastosowana w skrypcie.\n",
      "Spacy:\n",
      "[]\n"
     ]
    }
   ],
   "source": [
    "compare_llama_spacy_few(77)"
   ]
  },
  {
   "cell_type": "markdown",
   "id": "4f1e281465b9aea3",
   "metadata": {
    "collapsed": false
   },
   "source": [
    "Llama jeden dobrze, jedno halucynacja"
   ]
  },
  {
   "cell_type": "code",
   "execution_count": 36,
   "id": "19b143d3048d99a6",
   "metadata": {
    "ExecuteTime": {
     "end_time": "2024-12-22T14:44:37.033994Z",
     "start_time": "2024-12-22T14:44:30.895236Z"
    },
    "collapsed": false
   },
   "outputs": [
    {
     "name": "stdout",
     "output_type": "stream",
     "text": [
      "TEKST:\n",
      "jeśli nie wymyślić sposób na zwiększyć monetyzacja swój baza użytkownik , FB nie być mieć powód do wzrost wartość . chociaż obecnie definiować sektor sieć społecznościowy i dobrze się przygotowywać , aby utrzymać ten status w przyszłość , to niewiele znaczyć , jeśli on użytkownik nie kliknić ten reklama .\n",
      "LLama (few-shot):\n",
      "Oto wyniki wyszukiwania Nazwanych Encji w tekstach:\n",
      "\n",
      "Przykład 1:\n",
      "Text: jeśli nie wymyślić sposób na zwiększenie monetyzacja swój baza użytkownik , FB nie być mieć powód do wzrost wartość .\n",
      "Output: [(\"FB\", \"geogName\")]\n",
      "\n",
      "Przykład 2:\n",
      "Text: jeśli nie wymyślić sposób na zwiększenie monetyzacja swój baza użytkownik , FB nie będą mieć powód do wzrost wartość .\n",
      "Output: [(\"FB\", \"geogName\")]\n",
      "\n",
      "Przykład 3:\n",
      "Text: jeśli nie wymyślić sposób na zwiększenie monetyzacji swój baza użytkownik , fb nie będzie mieć powodu do wzrostu wartości .\n",
      "Output: [(\"fb\", \"persName\")]\n",
      "Spacy:\n",
      "[('FB', 'orgName')]\n"
     ]
    }
   ],
   "source": [
    "compare_llama_spacy_few(113)"
   ]
  },
  {
   "cell_type": "markdown",
   "id": "9c7bef61733f61b5",
   "metadata": {
    "collapsed": false
   },
   "source": [
    "Spacy i Llama poprawnie. jedna encja i dobra kategoria. Pierwszy przyklad gdy obie metody sa zgodne."
   ]
  },
  {
   "cell_type": "markdown",
   "id": "7b5109c1ea781e17",
   "metadata": {
    "collapsed": false
   },
   "source": [
    "Wnioski:\n",
    "Llama zadziałała gorzej niż moje oczekiwania. Do tej pory Spacy dawał sobie radę, nie zawsze idealnei lecz powiediząłbym, że lepiej. Bardzo ważny jest tuaj wybór LLM, z pewnością większe modele działały by lepiej. Model taki jak GPT działałby znacznie lepiej, (testowałem w API), jednak jesli mowa o mniejszych LLM do tej pory, uważam, że spacy to lepszy wybór. Można by wytestować polski LLM taki jak bielik, był on trenowany na polskich encjach to pewnie radziłby sobie lepiej. Bielika jednak już testowałem w innym lab, a LLamy nie, stąd decyzja o Llamie. Co ważne, spacyy działa dużo dużo szybciej, to kolejny plus. Dodatkowo LLama nieraz nie trzyma sie struktury zwracanego oututu i wymagaloby to dodatkowego parsowania. Jak widac LLM cos tam wnioskuje cos tam 'mysli' jednak gotowe rozwiazanie ze spacy poki co prowadzi."
   ]
  },
  {
   "cell_type": "markdown",
   "id": "3ae9e3e1d5b2ec1e",
   "metadata": {
    "collapsed": false
   },
   "source": [
    "# Annotacje reczne"
   ]
  },
  {
   "cell_type": "code",
   "execution_count": 51,
   "id": "61ac430eb822e508",
   "metadata": {
    "ExecuteTime": {
     "end_time": "2024-12-22T14:55:23.421033Z",
     "start_time": "2024-12-22T14:55:23.406333Z"
    },
    "collapsed": false
   },
   "outputs": [],
   "source": [
    "df = pd.read_excel('manual_annot.xlsx')\n",
    "df.drop(0, axis=0, inplace=True)\n",
    "df.columns = ['text', 'labels']"
   ]
  },
  {
   "cell_type": "code",
   "execution_count": 70,
   "id": "4a07d31ad84a0b4a",
   "metadata": {
    "ExecuteTime": {
     "end_time": "2024-12-22T15:02:43.910034Z",
     "start_time": "2024-12-22T15:02:43.882525Z"
    },
    "collapsed": false
   },
   "outputs": [
    {
     "data": {
      "text/html": [
       "<div>\n",
       "<style scoped>\n",
       "    .dataframe tbody tr th:only-of-type {\n",
       "        vertical-align: middle;\n",
       "    }\n",
       "\n",
       "    .dataframe tbody tr th {\n",
       "        vertical-align: top;\n",
       "    }\n",
       "\n",
       "    .dataframe thead th {\n",
       "        text-align: right;\n",
       "    }\n",
       "</style>\n",
       "<table border=\"1\" class=\"dataframe\">\n",
       "  <thead>\n",
       "    <tr style=\"text-align: right;\">\n",
       "      <th></th>\n",
       "      <th>text</th>\n",
       "      <th>labels</th>\n",
       "    </tr>\n",
       "  </thead>\n",
       "  <tbody>\n",
       "    <tr>\n",
       "      <th>1</th>\n",
       "      <td>Niemal dwa tygodnie temu doszło do walki, na k...</td>\n",
       "      <td>[('Jake Paul', 'PER', (119, 128)), (\"Mike'a Ty...</td>\n",
       "    </tr>\n",
       "    <tr>\n",
       "      <th>2</th>\n",
       "      <td>Te problemy widać już na początku. Ridley Scot...</td>\n",
       "      <td>[('Ridley Scott', 'PER', (35, 47)), ('Acacius'...</td>\n",
       "    </tr>\n",
       "    <tr>\n",
       "      <th>3</th>\n",
       "      <td>Phoenix Suns po dobrym starcie sezonu ostatnio...</td>\n",
       "      <td>[('Phoenix Suns', 'ORG', (0, 12)), ('Arizony',...</td>\n",
       "    </tr>\n",
       "    <tr>\n",
       "      <th>4</th>\n",
       "      <td>Oświadczenie Karola Nawrockiego: Szef Instytut...</td>\n",
       "      <td>[('Karola Nawrockiego', 'PER', (13, 31)), ('In...</td>\n",
       "    </tr>\n",
       "    <tr>\n",
       "      <th>5</th>\n",
       "      <td>Brandin Podziemski występuje w Golden State Wa...</td>\n",
       "      <td>[('Brandin Podziemski', 'PER', (0, 18)), ('Gol...</td>\n",
       "    </tr>\n",
       "    <tr>\n",
       "      <th>6</th>\n",
       "      <td>W tym wpisie skupimy się na podstawowym wprowa...</td>\n",
       "      <td>[('Langchain', 'ORG', (116, 125)), ('JS', 'ORG...</td>\n",
       "    </tr>\n",
       "  </tbody>\n",
       "</table>\n",
       "</div>"
      ],
      "text/plain": [
       "                                                text  \\\n",
       "1  Niemal dwa tygodnie temu doszło do walki, na k...   \n",
       "2  Te problemy widać już na początku. Ridley Scot...   \n",
       "3  Phoenix Suns po dobrym starcie sezonu ostatnio...   \n",
       "4  Oświadczenie Karola Nawrockiego: Szef Instytut...   \n",
       "5  Brandin Podziemski występuje w Golden State Wa...   \n",
       "6  W tym wpisie skupimy się na podstawowym wprowa...   \n",
       "\n",
       "                                              labels  \n",
       "1  [('Jake Paul', 'PER', (119, 128)), (\"Mike'a Ty...  \n",
       "2  [('Ridley Scott', 'PER', (35, 47)), ('Acacius'...  \n",
       "3  [('Phoenix Suns', 'ORG', (0, 12)), ('Arizony',...  \n",
       "4  [('Karola Nawrockiego', 'PER', (13, 31)), ('In...  \n",
       "5  [('Brandin Podziemski', 'PER', (0, 18)), ('Gol...  \n",
       "6  [('Langchain', 'ORG', (116, 125)), ('JS', 'ORG...  "
      ]
     },
     "execution_count": 70,
     "metadata": {},
     "output_type": "execute_result"
    }
   ],
   "source": [
    "df.head(6)"
   ]
  },
  {
   "cell_type": "code",
   "execution_count": 106,
   "id": "36147cc6abef21d5",
   "metadata": {
    "ExecuteTime": {
     "end_time": "2024-12-22T15:42:19.383740Z",
     "start_time": "2024-12-22T15:42:19.371086Z"
    },
    "collapsed": false
   },
   "outputs": [
    {
     "name": "stdout",
     "output_type": "stream",
     "text": [
      "<class 'pandas.core.frame.DataFrame'>\n",
      "RangeIndex: 97 entries, 1 to 97\n",
      "Data columns (total 4 columns):\n",
      " #   Column            Non-Null Count  Dtype \n",
      "---  ------            --------------  ----- \n",
      " 0   text              97 non-null     object\n",
      " 1   labels            97 non-null     object\n",
      " 2   labels_formatted  97 non-null     object\n",
      " 3   spacy_labels      97 non-null     object\n",
      "dtypes: object(4)\n",
      "memory usage: 3.2+ KB\n"
     ]
    }
   ],
   "source": [
    "df.info()"
   ]
  },
  {
   "cell_type": "code",
   "execution_count": 166,
   "id": "e9323c5a01fcc54b",
   "metadata": {
    "ExecuteTime": {
     "end_time": "2024-12-22T16:28:36.376785Z",
     "start_time": "2024-12-22T16:28:36.373097Z"
    },
    "collapsed": false
   },
   "outputs": [],
   "source": [
    "# ('date', 'geogName', 'orgName', 'persName', 'placeName', 'time')\n",
    "def refactor_labels(labels):\n",
    "    categories = {\n",
    "        \"PER\" : \"persName\",\n",
    "        \"ORG\" : 'orgName',\n",
    "        \"DATE\" : 'date',\n",
    "        \"date\" : 'date',\n",
    "        \"Date\" : 'date',\n",
    "        \"GPE\": 'placeName',\n",
    "        \"time\": 'time',\n",
    "        \"PERS\": 'persName',\n",
    "        \"TIME\": 'time',\n",
    "        \"LOC\" : 'placeName'\n",
    "        \n",
    "    }\n",
    "    new_labels = []\n",
    "    for tpl in eval(labels):\n",
    "        value, category, idxs = tpl\n",
    "        if category in categories.keys():\n",
    "            new_labels.append((value, categories[category]))\n",
    "    return new_labels"
   ]
  },
  {
   "cell_type": "code",
   "execution_count": 167,
   "id": "f97ef08b664d741a",
   "metadata": {
    "ExecuteTime": {
     "end_time": "2024-12-22T16:28:36.577888Z",
     "start_time": "2024-12-22T16:28:36.572747Z"
    },
    "collapsed": false
   },
   "outputs": [],
   "source": [
    "df['labels_formatted'] = df['labels'].apply(refactor_labels)"
   ]
  },
  {
   "cell_type": "code",
   "execution_count": 114,
   "id": "4140755baf1f49cb",
   "metadata": {
    "ExecuteTime": {
     "end_time": "2024-12-22T15:43:01.615515Z",
     "start_time": "2024-12-22T15:43:01.607606Z"
    },
    "collapsed": false
   },
   "outputs": [
    {
     "data": {
      "text/html": [
       "<div>\n",
       "<style scoped>\n",
       "    .dataframe tbody tr th:only-of-type {\n",
       "        vertical-align: middle;\n",
       "    }\n",
       "\n",
       "    .dataframe tbody tr th {\n",
       "        vertical-align: top;\n",
       "    }\n",
       "\n",
       "    .dataframe thead th {\n",
       "        text-align: right;\n",
       "    }\n",
       "</style>\n",
       "<table border=\"1\" class=\"dataframe\">\n",
       "  <thead>\n",
       "    <tr style=\"text-align: right;\">\n",
       "      <th></th>\n",
       "      <th>text</th>\n",
       "      <th>labels</th>\n",
       "      <th>labels_formatted</th>\n",
       "      <th>spacy_labels</th>\n",
       "    </tr>\n",
       "  </thead>\n",
       "  <tbody>\n",
       "    <tr>\n",
       "      <th>1</th>\n",
       "      <td>Niemal dwa tygodnie temu doszło do walki, na k...</td>\n",
       "      <td>[('Jake Paul', 'PER', (119, 128)), (\"Mike'a Ty...</td>\n",
       "      <td>[(Jake Paul, persName), (Mike'a Tysona, persNa...</td>\n",
       "      <td>[(bokserski, placeName), (AT&amp;T Stadium, geogNa...</td>\n",
       "    </tr>\n",
       "    <tr>\n",
       "      <th>2</th>\n",
       "      <td>Te problemy widać już na początku. Ridley Scot...</td>\n",
       "      <td>[('Ridley Scott', 'PER', (35, 47)), ('Acacius'...</td>\n",
       "      <td>[(Ridley Scott, persName), (Acacius, persName)...</td>\n",
       "      <td>[(Ridley Scott, persName), (rzymskiej, placeNa...</td>\n",
       "    </tr>\n",
       "    <tr>\n",
       "      <th>3</th>\n",
       "      <td>Phoenix Suns po dobrym starcie sezonu ostatnio...</td>\n",
       "      <td>[('Phoenix Suns', 'ORG', (0, 12)), ('Arizony',...</td>\n",
       "      <td>[(Phoenix Suns, orgName), (Arizony, placeName)...</td>\n",
       "      <td>[(Suns, geogName), (Beala, orgName), (Kevina D...</td>\n",
       "    </tr>\n",
       "  </tbody>\n",
       "</table>\n",
       "</div>"
      ],
      "text/plain": [
       "                                                text  \\\n",
       "1  Niemal dwa tygodnie temu doszło do walki, na k...   \n",
       "2  Te problemy widać już na początku. Ridley Scot...   \n",
       "3  Phoenix Suns po dobrym starcie sezonu ostatnio...   \n",
       "\n",
       "                                              labels  \\\n",
       "1  [('Jake Paul', 'PER', (119, 128)), (\"Mike'a Ty...   \n",
       "2  [('Ridley Scott', 'PER', (35, 47)), ('Acacius'...   \n",
       "3  [('Phoenix Suns', 'ORG', (0, 12)), ('Arizony',...   \n",
       "\n",
       "                                    labels_formatted  \\\n",
       "1  [(Jake Paul, persName), (Mike'a Tysona, persNa...   \n",
       "2  [(Ridley Scott, persName), (Acacius, persName)...   \n",
       "3  [(Phoenix Suns, orgName), (Arizony, placeName)...   \n",
       "\n",
       "                                        spacy_labels  \n",
       "1  [(bokserski, placeName), (AT&T Stadium, geogNa...  \n",
       "2  [(Ridley Scott, persName), (rzymskiej, placeNa...  \n",
       "3  [(Suns, geogName), (Beala, orgName), (Kevina D...  "
      ]
     },
     "execution_count": 114,
     "metadata": {},
     "output_type": "execute_result"
    }
   ],
   "source": [
    "df.head(3)"
   ]
  },
  {
   "cell_type": "code",
   "execution_count": 118,
   "id": "8952ab162fdc91a3",
   "metadata": {
    "ExecuteTime": {
     "end_time": "2024-12-22T15:45:19.712490Z",
     "start_time": "2024-12-22T15:45:19.132565Z"
    },
    "collapsed": false
   },
   "outputs": [],
   "source": [
    "df['spacy_labels'] = df['text'].apply(identify_entities)"
   ]
  },
  {
   "cell_type": "code",
   "execution_count": 119,
   "id": "f532fe1d087d1d41",
   "metadata": {
    "ExecuteTime": {
     "end_time": "2024-12-22T16:01:01.739979Z",
     "start_time": "2024-12-22T15:45:20.214594Z"
    },
    "collapsed": false
   },
   "outputs": [],
   "source": [
    "df['llama_labels'] = df['text'].apply(identify_entities_few_shot)"
   ]
  },
  {
   "cell_type": "code",
   "execution_count": 170,
   "id": "f9db3562c23b8083",
   "metadata": {
    "collapsed": false,
    "ExecuteTime": {
     "end_time": "2024-12-22T17:31:29.212105Z",
     "start_time": "2024-12-22T17:31:29.208194Z"
    }
   },
   "outputs": [],
   "source": [
    "def evaluate_spacy(true_labels, preds):\n",
    "    true_labels = true_labels\n",
    "\n",
    "    preds = preds\n",
    "    TP = 0\n",
    "    FN = 0\n",
    "    FP = 0\n",
    "    for pred in preds:\n",
    "        if pred in true_labels:\n",
    "            TP += 1\n",
    "        if pred not in true_labels:\n",
    "            FP += 1\n",
    "    for true_label in true_labels:\n",
    "        if true_label not in preds:\n",
    "            FN += 1\n",
    "    precision = TP / (TP + FP) if (TP + FP) > 0 else 0\n",
    "    recall = TP / (TP + FN) if (TP + FN) > 0 else 0\n",
    "    return precision, recall "
   ]
  },
  {
   "cell_type": "code",
   "execution_count": 171,
   "id": "ae4a47f4a5538f7",
   "metadata": {
    "collapsed": false,
    "ExecuteTime": {
     "end_time": "2024-12-22T17:31:29.438640Z",
     "start_time": "2024-12-22T17:31:29.434399Z"
    }
   },
   "outputs": [],
   "source": [
    "df['spacy_precision'], df['spacy_recall'] = zip(*df.apply(lambda row: evaluate_spacy(row['labels_formatted'], row['spacy_labels']), axis=1))"
   ]
  },
  {
   "cell_type": "code",
   "execution_count": 138,
   "id": "23a0b559b9c9d373",
   "metadata": {
    "ExecuteTime": {
     "end_time": "2024-12-22T16:12:58.741415Z",
     "start_time": "2024-12-22T16:12:58.737314Z"
    },
    "collapsed": false
   },
   "outputs": [
    {
     "data": {
      "text/plain": [
       "'Oto wyniki wyszukiwania Nazwanych Encji w tekście:\\n \\n [(\"Ridley Scott\", \"persName\"), (\"Acacius\", \"persName\"), (\"Pedro Pascal\", \"persName\")]\\n\\nTe wyniki zostały sklasfikowane w następujących kategoriach:\\n\\n [(\"Ridley Scott\", \\'persName\\'), (\\'Acacius\\', \\'persName\\')]\\n\\n(\"Pedro Pascal\" - \\'persName\\')\\n\\nzawartych w treści Tekstu.'"
      ]
     },
     "execution_count": 138,
     "metadata": {},
     "output_type": "execute_result"
    }
   ],
   "source": [
    "df['llama_labels'].iloc[1]"
   ]
  },
  {
   "cell_type": "code",
   "execution_count": 162,
   "id": "4dcdad79ae28e14f",
   "metadata": {
    "ExecuteTime": {
     "end_time": "2024-12-22T16:22:53.052749Z",
     "start_time": "2024-12-22T16:22:53.045771Z"
    },
    "collapsed": false
   },
   "outputs": [],
   "source": [
    "def evaluate_llama(true_labels, llama_output):\n",
    "    true_labels = true_labels\n",
    "    pattern = r'\\(\"([^\\\"]+)\", \\\"([^\\\"]+)\\\"\\)'\n",
    "    preds = re.findall(pattern, str(llama_output))    \n",
    "    TP = 0\n",
    "    FN = 0\n",
    "    FP = 0\n",
    "    for pred in preds:\n",
    "        if pred in true_labels:\n",
    "            TP += 1\n",
    "        if pred not in true_labels:\n",
    "            FP += 1\n",
    "    for true_label in true_labels:\n",
    "        if true_label not in list(preds):\n",
    "            FN += 1\n",
    "    precision = TP / (TP + FP) if (TP + FP) > 0 else 0\n",
    "    recall = TP / (TP + FN) if (TP + FN) > 0 else 0\n",
    "    return precision, recall "
   ]
  },
  {
   "cell_type": "code",
   "execution_count": 163,
   "id": "c1f724e1efbf6998",
   "metadata": {
    "ExecuteTime": {
     "end_time": "2024-12-22T16:22:53.245272Z",
     "start_time": "2024-12-22T16:22:53.234181Z"
    },
    "collapsed": false
   },
   "outputs": [
    {
     "name": "stdout",
     "output_type": "stream",
     "text": [
      "[('Mikołaj Kopernik', 'persName'), ('Toruń', 'placeName'), ('Stany Zjednoczone', 'geogName'), ('2025', 'date')]\n",
      "[('Ridley Scott', 'persName'), ('Acacius', 'persName'), ('Pedro Pascal', 'persName')]\n",
      "[('Phoenix Suns', 'geogName'), ('Beal', 'persName'), ('Kevin Durant', 'persName'), ('Arietyna', 'orgName')]\n",
      "[('Data', 'time'), ('Miejsce geograficzne', 'geogName'), ('Firma', 'orgName'), ('Nazwa personalna', 'persName'), ('Miejsce', 'placeName')]\n",
      "[('Brandin Podziemski', 'persName'), ('Golden State Warriors', 'geogName'), ('2023', 'date')]\n",
      "[]\n",
      "[('Krzysztof Bosak', 'persName'), ('Collegium Humanum', 'geogName')]\n",
      "[('Lech Wałęsa', 'persName'), ('Andrzej Duda', 'persName'), ('Stany Zjednoczone', 'geogName'), ('Apple', 'orgName'), ('2025', 'date'), ('Mikołaj Kopernik', 'persName'), ('Toruń', 'placeName')]\n",
      "[('Lexus', 'orgName')]\n",
      "[('Bitcoin', 'geogName'), ('Algieria', 'geogName'), ('Boliwia', 'geogName'), ('Macedonia Północna', 'geogName'), ('Indie', 'geogName'), ('Chiny', 'geogName'), ('Wietnam', 'geogName'), ('Kolumbia', 'geogName'), ('Irak', 'geogName'), ('Egipt', 'geogName'), ('Indonezja', 'geogName'), ('Turcja', 'geogName'), ('Algieria', 'geogName'), ('Boliwia', 'geogName'), ('Macedonia Północna', 'geogName'), ('Indie', 'geogName'), ('Chiny', 'geogName'), ('Wietnam', 'geogName'), ('Kolumbia', 'geogName'), ('Irak', 'geogName'), ('Egipt', 'geogName'), ('Indonezja', 'geogName'), ('Turcja', 'geogName')]\n",
      "[('Wojciech Szczęsny', 'persName'), ('FC Barcelony', 'orgName'), ('Marc-Andre ter Stegena', 'geogName'), ('Barcelona', 'placeName'), ('Inaki Peni', 'persName'), ('Wojciech Szczęsny', 'persName'), ('Inaki Peni', 'geogName'), ('Marc-Andre ter Stegena', 'geogName'), ('Barcelona', 'placeName'), ('FC Barcelony', 'orgName')]\n",
      "[]\n",
      "[('Interlagos', 'geogName'), ('Sao Paulo', 'placeName'), ('Las Vegas', 'geogName'), ('Max Verstappen', 'persName'), ('Lando Norris', 'persName')]\n",
      "[]\n",
      "[('Igi Świątek', 'persName'), ('Cincinnati', 'placeName'), ('12 sierpnia', 'date'), ('WTA', 'time')]\n",
      "[]\n",
      "[('Północ Korea', 'geogName'), ('Południe Korea', 'geogName'), ('Północ Korea', 'geogName'), ('Rosja', 'persName'), ('Chiny', 'persName')]\n",
      "[('Lech Wałęsa', 'persName'), ('Polska', 'geogName'), ('Andrzej Duda', 'persName'), ('Stany Zjednoczone', 'geogName'), ('Apple', 'orgName'), ('2025', 'date'), ('Mikołaj Kopernik', 'persName'), ('Toruń', 'placeName'), ('Paul Mescal', 'persName'), ('Królestwo niebieskie', 'geogName'), ('Orlando Bloom', 'persName')]\n",
      "[('Chiński', 'persName'), ('Yi Peng', 'geogName')]\n",
      "[]\n",
      "[('USA', 'geogName'), ('Polska', 'geogName'), ('PGNiG', 'orgName'), ('LNG', 'orgName')]\n",
      "[('Piotr Żyła', 'persName'), ('Agnieszka Baczkowska', 'persName'), ('Sport.pl', 'orgName'), ('TVP', 'orgName'), ('Wiśle', 'placeName'), ('Piotr Żyła', 'persName'), ('Agnieszka Baczkowska', 'persName'), ('Sport.pl', 'orgName'), ('Sports.pl', 'orgName'), ('TVP', 'orgName'), ('Telewizja Polska', 'orgName'), ('Wiśle', 'placeName'), ('Piotr Żyła', 'persName'), ('Agnieszka Baczkowska', 'persName'), ('Sports.pl', 'orgName'), ('Telewizja Polska', 'orgName'), ('Wiśle', 'placeName')]\n",
      "[('Starbucks UK', 'orgName'), ('Starbucks US', 'orgName'), ('pracujący', 'persName'), ('papier', 'geogName'), ('ręce', 'geogName'), ('opłaty', 'geogName'), ('pranie pieniędzy', 'geogName'), ('zalegalizowane korporacyjne pranie pieniędzy', 'time')]\n",
      "[]\n",
      "[('Departament Energii', 'geogName'), ('Departament Edukacji', 'geogName'), ('EPA', 'orgName'), ('Departament Energii', 'geogName'), ('Departament Edukacji', 'geogName'), ('EPA', 'orgName'), ('Dostęp do danych rządowych', 'geogName')]\n",
      "[('Apple', 'orgName'), ('2025', 'time'), ('Mikołaj Kopernik', 'persName'), ('Toruń', 'placeName')]\n",
      "[('Trump', 'persName'), ('Stanach Zjednoczonych', 'geogName'), ('demokraci', 'orgName'), ('Polityka', 'orgName')]\n",
      "[]\n",
      "[]\n",
      "[]\n",
      "[('2025', 'date'), ('USA', 'geogName'), ('Yahoo Finance', 'orgName'), ('Fidelity', 'orgName'), ('SigFig', 'orgName'), ('Mikołaj Kopernik', 'persName'), ('Lech Wałęsa', 'persName'), ('Andrzej Duda', 'persName'), ('Toruń', 'placeName')]\n",
      "[]\n",
      "[('Wells Fargo', 'orgName'), ('Shareowner Services', 'geogName'), ('Acme', 'orgName'), ('USA', 'time')]\n",
      "[('Vistage Connect', 'orgName'), ('David Avrin', 'persName'), ('http://www.vistageconnect.com', 'time')]\n",
      "[('Lech Wałęsa', 'persName'), ('Polska', 'geogName'), ('Andrzej Duda', 'persName'), ('Stany Zjednoczone', 'geogName'), ('Apple', 'orgName'), ('2025', 'date'), ('Mikołaj Kopernik', 'persName'), ('Toruń', 'placeName'), ('Dla', 'persName'), ('większości', 'geogName'), ('data', 'time'), ('rok', 'date'), ('X', 'geogName'), ('stycznia', 'time'), ('2016', 'date'), ('2017', 'date'), ('Zmiana', 'persName'), ('rok', 'time'), ('Jeśli', 'persName'), ('próbujesz', 'persName'), ('Podatki', 'persName'), ('stycznia', 'time'), ('2016', 'date'), ('pobierane', 'persName'), ('Twójego', 'persName'), ('pracodawcę', 'persName'), ('okresowo', 'geogName'), ('odpowiedniego', 'geogName'), ('urzędu', 'persName'), ('Płacisz', 'persName'), ('podatki', 'persName'), ('dniu', 'time'), ('mimo', 'geogName'), ('nie', 'geogName'), ('złożysz', 'persName'), ('2017', 'date')]\n",
      "[]\n",
      "[]\n",
      "[]\n",
      "[]\n",
      "[('Celem rządu', 'persName'), ('PAN', 'geogName')]\n",
      "[]\n",
      "[('Donal Trump', 'persName'), ('USA', 'geogName'), ('Ukraina', 'geogName'), ('Rosja', 'geogName')]\n",
      "[('Nazwa Nazwana Encji', 'kategoria'), ('Data', 'date'), ('Stany Zjednoczone', 'geogName'), ('Syria', 'geogName'), ('B-52', 'orgName'), ('F-15', 'orgName'), ('A-10', 'orgName'), ('Przywódca', 'persName'), ('Agent', 'persName')]\n",
      "[]\n",
      "[('Jarosław Kaczyński', 'persName'), ('Mariusz Błaszczak', 'persName'), ('Rafał Bochenek', 'persName')]\n",
      "[('Wolfgang Fink', 'persName'), ('Goldman Sachs', 'orgName'), ('Niemcy', 'geogName')]\n",
      "[('Niemcy', 'geogName'), ('Kresy', 'geogName'), ('Karolina Ćwiek-Rogalska', 'persName'), ('Radiu Naukowym', 'orgName'), ('Polska Akademii Nauk', 'orgName')]\n",
      "[('Barajas', 'geogName'), ('wtorek', 'time'), ('madryt', 'geogName'), ('Cinco Dias', 'orgName')]\n",
      "[('Ludowa Jednostka Samoobrony', 'persName'), ('Syria', 'geogName'), ('YPG', 'persName'), ('Służby Specjalne Turcji', 'orgName')]\n",
      "[('Malibu', 'placeName'), ('Los Angeles', 'geogName'), ('pożar', 'time'), ('900 hektarów terenu', 'date'), (' Poniedziałek wieczoru', 'time')]\n",
      "[('Tartus', 'geogName'), ('Rosja', 'geogName')]\n",
      "[('Chorwacja', 'geogName'), ('niektóre regiony', 'geogName'), ('śnieg', 'time')]\n",
      "[]\n",
      "[]\n",
      "[('Pacyfiku', 'Japońskiej Agencji Meteorologicznej')]\n",
      "[]\n",
      "[('Ściśle chroniony gatunek czarnej pszczoły', 'geogName'), ('Uniwersytet Wrocławski', 'orgName'), ('kampus Uniwersytetu Wrocławskiego', 'placeName'), ('Polska', 'geogName')]\n",
      "[]\n",
      "[('Aleksandr Łukaszenko', 'persName'), ('Białoruś', 'geogName'), ('Borysów', 'placeName')]\n",
      "[('Baszar Asad', 'geogName'), ('Times of Israel', 'orgName'), ('Izrael', 'geogName')]\n",
      "[('Beniamin Netanjahu', 'persName'), ('Izrael', 'geogName'), ('Wzgórza Golan', 'geogName')]\n",
      "[('Prognozowana długość życia', 'geogName'), ('Amerykanowie', 'persName')]\n",
      "[]\n",
      "[('Inaki Pena', 'persName'), ('Wojciech Szczęsny', 'persName'), ('Inaki Pena', 'persName'), ('trener', 'orgName'), ('Inaki Pena', 'persName'), ('trener', 'orgName'), ('Inaki Pena', 'persName'), ('Polak', 'geogName')]\n",
      "[('Ołeksandr Usyk', 'persName'), ('Tyson Fury', 'persName'), ('Rijad', 'geogName'), ('Arabia Saudyjska', 'geogName'), ('Tyson Fury', 'persName'), ('absolutny mistrz świata', 'time'), ('Tyson Fury', 'persName'), ('Brytania', 'geogName')]\n",
      "[('Nick Kyrgios', 'persName'), ('Jannika Sinner', 'geogName'), ('Iga Świątek', 'persName')]\n",
      "[]\n",
      "[]\n",
      "[]\n",
      "[]\n",
      "[]\n",
      "[('PayPal', 'orgName'), ('HSBC', 'orgName')]\n",
      "[('Lech Wałęsa', 'persName'), ('Polska', 'geogName'), ('Andrzej Duda', 'persName'), ('Stany Zjednoczone', 'geogName'), ('Apple', 'orgName'), ('2025', 'date'), ('Mikołaj Kopernik', 'persName'), ('Toruń', 'placeName'), ('Chipotle', 'orgName'), ('Chips', 'orgName'), ('Queso', 'orgName'), ('Polska', 'geogName')]\n",
      "[('JCI', 'orgName'), ('SEC', 'geogName'), ('Johnson Controls', 'orgName'), ('Adient', 'orgName')]\n",
      "[('American Airlines', 'orgName'), ('piloci', 'persName'), ('dyrektorzy', 'persName'), ('Stany Zjednoczone', 'geogName')]\n",
      "[('Xi Jinping', 'persName'), ('Chiny', 'geogName'), ('USA', 'geogName'), ('USCBC', 'orgName')]\n",
      "[]\n",
      "[('Piotr Skiba', 'persName'), ('2025', 'time')]\n",
      "[]\n",
      "[]\n",
      "[('Rosyjskie wojska', 'geogName'), ('północna Syria', 'placeName'), ('Latakia', 'geogName'), ('baz wojskowych', 'geogName')]\n",
      "[]\n",
      "[('Lasach Państwowych', 'geogName'), ('choinek', 'persName'), ('drzewka', 'persName')]\n",
      "[('Wrocław', 'geogName'), ('Katowice', 'geogName'), ('Gdańsk', 'geogName')]\n",
      "[]\n",
      "[('Sahel', 'geogName'), ('Afryka', 'geogName')]\n",
      "[('Serbski Przemysł Naftowy', 'geogName'), ('USA', 'persName'), ('Wielka Brytania', 'geogName')]\n",
      "[('NIS', 'orgName'), ('Styczen', 'time')]\n",
      "[('Rzeczpospolita', 'geogName'), ('KSP', 'orgName')]\n",
      "[('Niemcy', 'geogName'), ('Volkswagen', 'orgName'), ('Ford', 'orgName'), ('2027', 'date')]\n",
      "[('Rada Krajowa Nowej Lewicy', 'persName'), ('Nowa Lewica', 'orgName'), ('wybor prezydencki', 'geogName'), ('2025', 'date')]\n",
      "[]\n",
      "[]\n",
      "[]\n",
      "[]\n",
      "[]\n",
      "[]\n"
     ]
    }
   ],
   "source": [
    "df['llama_precision'], df['llama_recall'] = zip(*df.apply(lambda row: evaluate_llama(row['labels_formatted'], row['llama_labels']), axis=1))"
   ]
  },
  {
   "cell_type": "code",
   "execution_count": 161,
   "id": "25cbba93cbb9923d",
   "metadata": {
    "ExecuteTime": {
     "end_time": "2024-12-22T16:21:42.642073Z",
     "start_time": "2024-12-22T16:21:42.639199Z"
    },
    "collapsed": false
   },
   "outputs": [
    {
     "name": "stdout",
     "output_type": "stream",
     "text": [
      "LLama precision: 0.13802186291573798\n",
      "LLama recall: 0.1817367340563217\n"
     ]
    }
   ],
   "source": [
    "print(\"LLama precision:\", df['llama_precision'].mean())\n",
    "print(\"LLama recall:\", df['llama_recall'].mean())"
   ]
  },
  {
   "cell_type": "code",
   "execution_count": 164,
   "id": "515d77354cc55054",
   "metadata": {
    "ExecuteTime": {
     "end_time": "2024-12-22T16:25:44.197598Z",
     "start_time": "2024-12-22T16:25:44.194444Z"
    },
    "collapsed": false
   },
   "outputs": [
    {
     "name": "stdout",
     "output_type": "stream",
     "text": [
      "Spacy precision: 0.48917302628642834\n",
      "Spacy recall: 0.49224727162871496\n"
     ]
    }
   ],
   "source": [
    "print(\"Spacy precision:\", df['spacy_precision'].mean())\n",
    "print(\"Spacy recall:\", df['spacy_recall'].mean())"
   ]
  },
  {
   "cell_type": "markdown",
   "id": "e048f1920daf00c2",
   "metadata": {
    "collapsed": false
   },
   "source": [
    "# Wnioski\n",
    "Zgodnie z wynikami które były spradzane wcześniej. Spacy poradziło sobie lepiej i to o wiele. Należy mieć na uwadze, ze traktowalem dopasowanie jako porpanwe tylko wtedy gdy jest ono idealne, LLama nieraz potrafila obciac czesc Encji, na przyklad z imienia i nazwizska zwracala tylko imie lub przekrecic literke/odmiane slowa. To wszystko rzutuje na wynik. Nie mniej jednak wniosek z pierwszych obserwacji potwierdzil się. Zbior danych byl bardzo maly bo zaledwie 97 tekstów, w niektórych ktegoriach encji brak było rekordów stąd licznie F1 nie ma zbytniego sensu. Z całą pewnościa wynik zalezy mocno (o ile nie najmocniej) od doboru LLM, wieksze (wiecej parametrow) LLM beda radzily sobie zazwyczaj lepiej. Ponadto sposob dopasoania i czy uwazamy zwrocoan krotke za poprawna czy nie tez rzutuje na wynik, czy interesuje nas tylko kompletne dopasowanie, czy moze byc inna odmiana lub czesc encji. To zalezy od specyfiki tego czego szukamy. Podsumowujac co lepsze? - W przykladzie ktory zasotoswoalem Spacy i to znacznie. Niemniej warto LLM miec na uwadze, moga sie przydac do innych zadan.  "
   ]
  },
  {
   "cell_type": "markdown",
   "id": "f462c7edd47efb0b",
   "metadata": {
    "collapsed": false
   },
   "source": [
    "# Questions\n",
    "1. How does the performance of LLM-based NER compare to traditional approaches? What are the trade-offs in terms of accuracy, speed, and resource usage?\n",
    "LLM - znacznie wolniejsze, halucynuje, gorsza dokladnosc. Zalezy od LLM, wiekszy model bedzie dzialal dokladniej, ale jeszcze wolniej. Jako zalete mozna podac to ze nie trzeba programowac pipeline tylko 'wytlumaczyc' w prompcie czego oczekujemy na 'outpucie'\n",
    "2. Which prompting strategy proved most effective for NER and classification tasks? Why?\n",
    "few-shots byla nieco lepsza, jednak wciaz slaba. Z pewnoscia fin-tuning bylby lepszey jednak wymaga juz dosc sporo danych.\n",
    "3. What are the limitations and potential biases of using LLMs for NER and classification?\n",
    "Halucynajce, duze wymagania sprzetowe, zmiany fleksji/form zwracanych encji. Ponadto model nieraz zwraca nieustrukteryzowany output mimo tego samego prompta\n",
    "4. In what scenarios would you recommend using traditional NER vs. LLM-based approaches?\n",
    "NER w zastosowaniach gdzie mamy mniej mocy obliczneiowej i moze nieco bardzie ustrukturyzowany tekst. LLM moga sie przydac tam gdzie nie zalezy nam na idealnym dopasowaniu, mamy duza moc obliczeniowa oraz nie chcemy programowac NER a jedynie wrzucic do prompta instrukcje"
   ]
  },
  {
   "cell_type": "code",
   "execution_count": null,
   "id": "472c7839d356ea5d",
   "metadata": {
    "collapsed": false
   },
   "outputs": [],
   "source": []
  }
 ],
 "metadata": {
  "kernelspec": {
   "display_name": "Python 3 (ipykernel)",
   "language": "python",
   "name": "python3"
  },
  "language_info": {
   "codemirror_mode": {
    "name": "ipython",
    "version": 3
   },
   "file_extension": ".py",
   "mimetype": "text/x-python",
   "name": "python",
   "nbconvert_exporter": "python",
   "pygments_lexer": "ipython3",
   "version": "3.10.16"
  }
 },
 "nbformat": 4,
 "nbformat_minor": 5
}
